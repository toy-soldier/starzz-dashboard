{
 "cells": [
  {
   "cell_type": "markdown",
   "id": "30c7f35e-666e-4b49-91b9-8ceb7eee0967",
   "metadata": {},
   "source": [
    "This notebook explores a mock dataset of stars, constellations, galaxies, and users. It demonstrates how I approach data analysis: cleaning, descriptive stats, inferential tests, and visualization — even in a science-inspired domain. Unlike my other projects, this project is focused on **statistics and analytical depth**.\n",
    "\n",
    "This notebook will focus on **exploratory data analysis**."
   ]
  },
  {
   "cell_type": "markdown",
   "id": "48430bdf-f71f-4667-984a-e12a022b5e79",
   "metadata": {},
   "source": [
    "First, import the necessary libraries and load the CSVs into dataframes.  Note that the CSVs that have already been cleaned up by `01_raw_data_cleanup.ipynb` are loaded."
   ]
  },
  {
   "cell_type": "code",
   "execution_count": 1,
   "id": "64e7e4a9-77b1-46ea-b20f-e3094e133260",
   "metadata": {},
   "outputs": [],
   "source": [
    "import pandas as pd\n",
    "\n",
    "\n",
    "SOURCE_FOLDER = \"../data/cleaned\"\n",
    "\n",
    "df_stars = pd.read_csv(f\"{SOURCE_FOLDER}/stars.csv\")\n",
    "df_constellations = pd.read_csv(f\"{SOURCE_FOLDER}/constellations.csv\")\n",
    "df_galaxies = pd.read_csv(f\"{SOURCE_FOLDER}/galaxies.csv\")\n",
    "df_users = pd.read_csv(f\"{SOURCE_FOLDER}/users.csv\")"
   ]
  },
  {
   "cell_type": "markdown",
   "id": "24365be1",
   "metadata": {},
   "source": [
    "Display some quick info about each dataframe."
   ]
  },
  {
   "cell_type": "code",
   "execution_count": 2,
   "id": "30832a60",
   "metadata": {},
   "outputs": [
    {
     "name": "stdout",
     "output_type": "stream",
     "text": [
      "=== df_stars ===\n",
      "<class 'pandas.core.frame.DataFrame'>\n",
      "RangeIndex: 503 entries, 0 to 502\n",
      "Data columns (total 12 columns):\n",
      " #   Column              Non-Null Count  Dtype  \n",
      "---  ------              --------------  -----  \n",
      " 0   star_id             503 non-null    int64  \n",
      " 1   star_name           503 non-null    object \n",
      " 2   star_type           503 non-null    object \n",
      " 3   constellation_id    503 non-null    int64  \n",
      " 4   right_ascension     503 non-null    float64\n",
      " 5   declination         503 non-null    float64\n",
      " 6   apparent_magnitude  503 non-null    float64\n",
      " 7   spectral_type       503 non-null    object \n",
      " 8   distance_mly        503 non-null    float64\n",
      " 9   temperature_k       503 non-null    float64\n",
      " 10  added_by            503 non-null    int64  \n",
      " 11  verified_by         503 non-null    int64  \n",
      "dtypes: float64(5), int64(4), object(3)\n",
      "memory usage: 47.3+ KB\n",
      "None\n"
     ]
    },
    {
     "data": {
      "application/vnd.microsoft.datawrangler.viewer.v0+json": {
       "columns": [
        {
         "name": "index",
         "rawType": "int64",
         "type": "integer"
        },
        {
         "name": "star_id",
         "rawType": "int64",
         "type": "integer"
        },
        {
         "name": "star_name",
         "rawType": "object",
         "type": "string"
        },
        {
         "name": "star_type",
         "rawType": "object",
         "type": "string"
        },
        {
         "name": "constellation_id",
         "rawType": "int64",
         "type": "integer"
        },
        {
         "name": "right_ascension",
         "rawType": "float64",
         "type": "float"
        },
        {
         "name": "declination",
         "rawType": "float64",
         "type": "float"
        },
        {
         "name": "apparent_magnitude",
         "rawType": "float64",
         "type": "float"
        },
        {
         "name": "spectral_type",
         "rawType": "object",
         "type": "string"
        },
        {
         "name": "distance_mly",
         "rawType": "float64",
         "type": "float"
        },
        {
         "name": "temperature_k",
         "rawType": "float64",
         "type": "float"
        },
        {
         "name": "added_by",
         "rawType": "int64",
         "type": "integer"
        },
        {
         "name": "verified_by",
         "rawType": "int64",
         "type": "integer"
        }
       ],
       "ref": "b7397cd9-b796-4b16-ba05-ede1551059cc",
       "rows": [
        [
         "0",
         "1",
         "Star-00001",
         "Giant",
         "5",
         "245.746",
         "-64.486",
         "3.705",
         "M",
         "577.651",
         "2887.0",
         "89",
         "107"
        ],
        [
         "1",
         "2",
         "Star-00002",
         "Main Sequence",
         "362",
         "318.097",
         "-83.532",
         "3.085",
         "G",
         "312.768",
         "5608.0",
         "77",
         "110"
        ],
        [
         "2",
         "3",
         "Star-00003",
         "Main Sequence",
         "317",
         "226.618",
         "-26.443",
         "1.641",
         "G",
         "26.122",
         "5749.0",
         "34",
         "99"
        ],
        [
         "3",
         "4",
         "Star-00004",
         "Main Sequence",
         "373",
         "170.017",
         "12.599",
         "0.048",
         "M",
         "0.919",
         "2755.0",
         "75",
         "98"
        ],
        [
         "4",
         "5",
         "Star-00005",
         "Main Sequence",
         "52",
         "3.069",
         "-32.548",
         "1.333",
         "G",
         "154.562",
         "5394.0",
         "96",
         "98"
        ]
       ],
       "shape": {
        "columns": 12,
        "rows": 5
       }
      },
      "text/html": [
       "<div>\n",
       "<style scoped>\n",
       "    .dataframe tbody tr th:only-of-type {\n",
       "        vertical-align: middle;\n",
       "    }\n",
       "\n",
       "    .dataframe tbody tr th {\n",
       "        vertical-align: top;\n",
       "    }\n",
       "\n",
       "    .dataframe thead th {\n",
       "        text-align: right;\n",
       "    }\n",
       "</style>\n",
       "<table border=\"1\" class=\"dataframe\">\n",
       "  <thead>\n",
       "    <tr style=\"text-align: right;\">\n",
       "      <th></th>\n",
       "      <th>star_id</th>\n",
       "      <th>star_name</th>\n",
       "      <th>star_type</th>\n",
       "      <th>constellation_id</th>\n",
       "      <th>right_ascension</th>\n",
       "      <th>declination</th>\n",
       "      <th>apparent_magnitude</th>\n",
       "      <th>spectral_type</th>\n",
       "      <th>distance_mly</th>\n",
       "      <th>temperature_k</th>\n",
       "      <th>added_by</th>\n",
       "      <th>verified_by</th>\n",
       "    </tr>\n",
       "  </thead>\n",
       "  <tbody>\n",
       "    <tr>\n",
       "      <th>0</th>\n",
       "      <td>1</td>\n",
       "      <td>Star-00001</td>\n",
       "      <td>Giant</td>\n",
       "      <td>5</td>\n",
       "      <td>245.746</td>\n",
       "      <td>-64.486</td>\n",
       "      <td>3.705</td>\n",
       "      <td>M</td>\n",
       "      <td>577.651</td>\n",
       "      <td>2887.0</td>\n",
       "      <td>89</td>\n",
       "      <td>107</td>\n",
       "    </tr>\n",
       "    <tr>\n",
       "      <th>1</th>\n",
       "      <td>2</td>\n",
       "      <td>Star-00002</td>\n",
       "      <td>Main Sequence</td>\n",
       "      <td>362</td>\n",
       "      <td>318.097</td>\n",
       "      <td>-83.532</td>\n",
       "      <td>3.085</td>\n",
       "      <td>G</td>\n",
       "      <td>312.768</td>\n",
       "      <td>5608.0</td>\n",
       "      <td>77</td>\n",
       "      <td>110</td>\n",
       "    </tr>\n",
       "    <tr>\n",
       "      <th>2</th>\n",
       "      <td>3</td>\n",
       "      <td>Star-00003</td>\n",
       "      <td>Main Sequence</td>\n",
       "      <td>317</td>\n",
       "      <td>226.618</td>\n",
       "      <td>-26.443</td>\n",
       "      <td>1.641</td>\n",
       "      <td>G</td>\n",
       "      <td>26.122</td>\n",
       "      <td>5749.0</td>\n",
       "      <td>34</td>\n",
       "      <td>99</td>\n",
       "    </tr>\n",
       "    <tr>\n",
       "      <th>3</th>\n",
       "      <td>4</td>\n",
       "      <td>Star-00004</td>\n",
       "      <td>Main Sequence</td>\n",
       "      <td>373</td>\n",
       "      <td>170.017</td>\n",
       "      <td>12.599</td>\n",
       "      <td>0.048</td>\n",
       "      <td>M</td>\n",
       "      <td>0.919</td>\n",
       "      <td>2755.0</td>\n",
       "      <td>75</td>\n",
       "      <td>98</td>\n",
       "    </tr>\n",
       "    <tr>\n",
       "      <th>4</th>\n",
       "      <td>5</td>\n",
       "      <td>Star-00005</td>\n",
       "      <td>Main Sequence</td>\n",
       "      <td>52</td>\n",
       "      <td>3.069</td>\n",
       "      <td>-32.548</td>\n",
       "      <td>1.333</td>\n",
       "      <td>G</td>\n",
       "      <td>154.562</td>\n",
       "      <td>5394.0</td>\n",
       "      <td>96</td>\n",
       "      <td>98</td>\n",
       "    </tr>\n",
       "  </tbody>\n",
       "</table>\n",
       "</div>"
      ],
      "text/plain": [
       "   star_id   star_name      star_type  constellation_id  right_ascension  \\\n",
       "0        1  Star-00001          Giant                 5          245.746   \n",
       "1        2  Star-00002  Main Sequence               362          318.097   \n",
       "2        3  Star-00003  Main Sequence               317          226.618   \n",
       "3        4  Star-00004  Main Sequence               373          170.017   \n",
       "4        5  Star-00005  Main Sequence                52            3.069   \n",
       "\n",
       "   declination  apparent_magnitude spectral_type  distance_mly  temperature_k  \\\n",
       "0      -64.486               3.705             M       577.651         2887.0   \n",
       "1      -83.532               3.085             G       312.768         5608.0   \n",
       "2      -26.443               1.641             G        26.122         5749.0   \n",
       "3       12.599               0.048             M         0.919         2755.0   \n",
       "4      -32.548               1.333             G       154.562         5394.0   \n",
       "\n",
       "   added_by  verified_by  \n",
       "0        89          107  \n",
       "1        77          110  \n",
       "2        34           99  \n",
       "3        75           98  \n",
       "4        96           98  "
      ]
     },
     "metadata": {},
     "output_type": "display_data"
    },
    {
     "name": "stdout",
     "output_type": "stream",
     "text": [
      "=== df_constellations ===\n",
      "<class 'pandas.core.frame.DataFrame'>\n",
      "RangeIndex: 405 entries, 0 to 404\n",
      "Data columns (total 5 columns):\n",
      " #   Column              Non-Null Count  Dtype \n",
      "---  ------              --------------  ----- \n",
      " 0   constellation_id    405 non-null    int64 \n",
      " 1   constellation_name  405 non-null    object\n",
      " 2   galaxy_id           405 non-null    int64 \n",
      " 3   added_by            405 non-null    int64 \n",
      " 4   verified_by         405 non-null    int64 \n",
      "dtypes: int64(4), object(1)\n",
      "memory usage: 15.9+ KB\n",
      "None\n"
     ]
    },
    {
     "data": {
      "application/vnd.microsoft.datawrangler.viewer.v0+json": {
       "columns": [
        {
         "name": "index",
         "rawType": "int64",
         "type": "integer"
        },
        {
         "name": "constellation_id",
         "rawType": "int64",
         "type": "integer"
        },
        {
         "name": "constellation_name",
         "rawType": "object",
         "type": "string"
        },
        {
         "name": "galaxy_id",
         "rawType": "int64",
         "type": "integer"
        },
        {
         "name": "added_by",
         "rawType": "int64",
         "type": "integer"
        },
        {
         "name": "verified_by",
         "rawType": "int64",
         "type": "integer"
        }
       ],
       "ref": "cf45c371-7a63-4b19-90d7-5927acd175ae",
       "rows": [
        [
         "0",
         "1",
         "Constellation-001",
         "232",
         "1",
         "97"
        ],
        [
         "1",
         "2",
         "Constellation-002",
         "341",
         "18",
         "98"
        ],
        [
         "2",
         "3",
         "Constellation-003",
         "397",
         "71",
         "115"
        ],
        [
         "3",
         "4",
         "Constellation-004",
         "222",
         "16",
         "102"
        ],
        [
         "4",
         "5",
         "Constellation-005",
         "351",
         "79",
         "102"
        ]
       ],
       "shape": {
        "columns": 5,
        "rows": 5
       }
      },
      "text/html": [
       "<div>\n",
       "<style scoped>\n",
       "    .dataframe tbody tr th:only-of-type {\n",
       "        vertical-align: middle;\n",
       "    }\n",
       "\n",
       "    .dataframe tbody tr th {\n",
       "        vertical-align: top;\n",
       "    }\n",
       "\n",
       "    .dataframe thead th {\n",
       "        text-align: right;\n",
       "    }\n",
       "</style>\n",
       "<table border=\"1\" class=\"dataframe\">\n",
       "  <thead>\n",
       "    <tr style=\"text-align: right;\">\n",
       "      <th></th>\n",
       "      <th>constellation_id</th>\n",
       "      <th>constellation_name</th>\n",
       "      <th>galaxy_id</th>\n",
       "      <th>added_by</th>\n",
       "      <th>verified_by</th>\n",
       "    </tr>\n",
       "  </thead>\n",
       "  <tbody>\n",
       "    <tr>\n",
       "      <th>0</th>\n",
       "      <td>1</td>\n",
       "      <td>Constellation-001</td>\n",
       "      <td>232</td>\n",
       "      <td>1</td>\n",
       "      <td>97</td>\n",
       "    </tr>\n",
       "    <tr>\n",
       "      <th>1</th>\n",
       "      <td>2</td>\n",
       "      <td>Constellation-002</td>\n",
       "      <td>341</td>\n",
       "      <td>18</td>\n",
       "      <td>98</td>\n",
       "    </tr>\n",
       "    <tr>\n",
       "      <th>2</th>\n",
       "      <td>3</td>\n",
       "      <td>Constellation-003</td>\n",
       "      <td>397</td>\n",
       "      <td>71</td>\n",
       "      <td>115</td>\n",
       "    </tr>\n",
       "    <tr>\n",
       "      <th>3</th>\n",
       "      <td>4</td>\n",
       "      <td>Constellation-004</td>\n",
       "      <td>222</td>\n",
       "      <td>16</td>\n",
       "      <td>102</td>\n",
       "    </tr>\n",
       "    <tr>\n",
       "      <th>4</th>\n",
       "      <td>5</td>\n",
       "      <td>Constellation-005</td>\n",
       "      <td>351</td>\n",
       "      <td>79</td>\n",
       "      <td>102</td>\n",
       "    </tr>\n",
       "  </tbody>\n",
       "</table>\n",
       "</div>"
      ],
      "text/plain": [
       "   constellation_id constellation_name  galaxy_id  added_by  verified_by\n",
       "0                 1  Constellation-001        232         1           97\n",
       "1                 2  Constellation-002        341        18           98\n",
       "2                 3  Constellation-003        397        71          115\n",
       "3                 4  Constellation-004        222        16          102\n",
       "4                 5  Constellation-005        351        79          102"
      ]
     },
     "metadata": {},
     "output_type": "display_data"
    },
    {
     "name": "stdout",
     "output_type": "stream",
     "text": [
      "=== df_galaxies ===\n",
      "<class 'pandas.core.frame.DataFrame'>\n",
      "RangeIndex: 403 entries, 0 to 402\n",
      "Data columns (total 9 columns):\n",
      " #   Column        Non-Null Count  Dtype  \n",
      "---  ------        --------------  -----  \n",
      " 0   galaxy_id     403 non-null    int64  \n",
      " 1   galaxy_name   403 non-null    object \n",
      " 2   galaxy_type   403 non-null    object \n",
      " 3   distance_mly  403 non-null    float64\n",
      " 4   redshift      403 non-null    float64\n",
      " 5   mass_solar    403 non-null    int64  \n",
      " 6   diameter_ly   403 non-null    int64  \n",
      " 7   added_by      403 non-null    int64  \n",
      " 8   verified_by   403 non-null    int64  \n",
      "dtypes: float64(2), int64(5), object(2)\n",
      "memory usage: 28.5+ KB\n",
      "None\n"
     ]
    },
    {
     "data": {
      "application/vnd.microsoft.datawrangler.viewer.v0+json": {
       "columns": [
        {
         "name": "index",
         "rawType": "int64",
         "type": "integer"
        },
        {
         "name": "galaxy_id",
         "rawType": "int64",
         "type": "integer"
        },
        {
         "name": "galaxy_name",
         "rawType": "object",
         "type": "string"
        },
        {
         "name": "galaxy_type",
         "rawType": "object",
         "type": "string"
        },
        {
         "name": "distance_mly",
         "rawType": "float64",
         "type": "float"
        },
        {
         "name": "redshift",
         "rawType": "float64",
         "type": "float"
        },
        {
         "name": "mass_solar",
         "rawType": "int64",
         "type": "integer"
        },
        {
         "name": "diameter_ly",
         "rawType": "int64",
         "type": "integer"
        },
        {
         "name": "added_by",
         "rawType": "int64",
         "type": "integer"
        },
        {
         "name": "verified_by",
         "rawType": "int64",
         "type": "integer"
        }
       ],
       "ref": "398630f9-95b8-4ac1-93dd-8a8410833575",
       "rows": [
        [
         "0",
         "1",
         "Galaxy-001",
         "Spiral",
         "317.044",
         "58.0326",
         "275596326285",
         "114330",
         "23",
         "113"
        ],
        [
         "1",
         "2",
         "Galaxy-002",
         "Irregular",
         "6.726",
         "0.486",
         "30715124530",
         "10575",
         "16",
         "101"
        ],
        [
         "2",
         "3",
         "Galaxy-003",
         "Spiral",
         "3.46",
         "3.0099",
         "99131106087",
         "82716",
         "41",
         "111"
        ],
        [
         "3",
         "4",
         "Galaxy-004",
         "Spiral",
         "168.067",
         "26.5814",
         "52361568580",
         "97553",
         "54",
         "100"
        ],
        [
         "4",
         "5",
         "Galaxy-005",
         "Elliptical",
         "1.212",
         "0.0",
         "2057518626375",
         "185232",
         "89",
         "103"
        ]
       ],
       "shape": {
        "columns": 9,
        "rows": 5
       }
      },
      "text/html": [
       "<div>\n",
       "<style scoped>\n",
       "    .dataframe tbody tr th:only-of-type {\n",
       "        vertical-align: middle;\n",
       "    }\n",
       "\n",
       "    .dataframe tbody tr th {\n",
       "        vertical-align: top;\n",
       "    }\n",
       "\n",
       "    .dataframe thead th {\n",
       "        text-align: right;\n",
       "    }\n",
       "</style>\n",
       "<table border=\"1\" class=\"dataframe\">\n",
       "  <thead>\n",
       "    <tr style=\"text-align: right;\">\n",
       "      <th></th>\n",
       "      <th>galaxy_id</th>\n",
       "      <th>galaxy_name</th>\n",
       "      <th>galaxy_type</th>\n",
       "      <th>distance_mly</th>\n",
       "      <th>redshift</th>\n",
       "      <th>mass_solar</th>\n",
       "      <th>diameter_ly</th>\n",
       "      <th>added_by</th>\n",
       "      <th>verified_by</th>\n",
       "    </tr>\n",
       "  </thead>\n",
       "  <tbody>\n",
       "    <tr>\n",
       "      <th>0</th>\n",
       "      <td>1</td>\n",
       "      <td>Galaxy-001</td>\n",
       "      <td>Spiral</td>\n",
       "      <td>317.044</td>\n",
       "      <td>58.0326</td>\n",
       "      <td>275596326285</td>\n",
       "      <td>114330</td>\n",
       "      <td>23</td>\n",
       "      <td>113</td>\n",
       "    </tr>\n",
       "    <tr>\n",
       "      <th>1</th>\n",
       "      <td>2</td>\n",
       "      <td>Galaxy-002</td>\n",
       "      <td>Irregular</td>\n",
       "      <td>6.726</td>\n",
       "      <td>0.4860</td>\n",
       "      <td>30715124530</td>\n",
       "      <td>10575</td>\n",
       "      <td>16</td>\n",
       "      <td>101</td>\n",
       "    </tr>\n",
       "    <tr>\n",
       "      <th>2</th>\n",
       "      <td>3</td>\n",
       "      <td>Galaxy-003</td>\n",
       "      <td>Spiral</td>\n",
       "      <td>3.460</td>\n",
       "      <td>3.0099</td>\n",
       "      <td>99131106087</td>\n",
       "      <td>82716</td>\n",
       "      <td>41</td>\n",
       "      <td>111</td>\n",
       "    </tr>\n",
       "    <tr>\n",
       "      <th>3</th>\n",
       "      <td>4</td>\n",
       "      <td>Galaxy-004</td>\n",
       "      <td>Spiral</td>\n",
       "      <td>168.067</td>\n",
       "      <td>26.5814</td>\n",
       "      <td>52361568580</td>\n",
       "      <td>97553</td>\n",
       "      <td>54</td>\n",
       "      <td>100</td>\n",
       "    </tr>\n",
       "    <tr>\n",
       "      <th>4</th>\n",
       "      <td>5</td>\n",
       "      <td>Galaxy-005</td>\n",
       "      <td>Elliptical</td>\n",
       "      <td>1.212</td>\n",
       "      <td>0.0000</td>\n",
       "      <td>2057518626375</td>\n",
       "      <td>185232</td>\n",
       "      <td>89</td>\n",
       "      <td>103</td>\n",
       "    </tr>\n",
       "  </tbody>\n",
       "</table>\n",
       "</div>"
      ],
      "text/plain": [
       "   galaxy_id galaxy_name galaxy_type  distance_mly  redshift     mass_solar  \\\n",
       "0          1  Galaxy-001      Spiral       317.044   58.0326   275596326285   \n",
       "1          2  Galaxy-002   Irregular         6.726    0.4860    30715124530   \n",
       "2          3  Galaxy-003      Spiral         3.460    3.0099    99131106087   \n",
       "3          4  Galaxy-004      Spiral       168.067   26.5814    52361568580   \n",
       "4          5  Galaxy-005  Elliptical         1.212    0.0000  2057518626375   \n",
       "\n",
       "   diameter_ly  added_by  verified_by  \n",
       "0       114330        23          113  \n",
       "1        10575        16          101  \n",
       "2        82716        41          111  \n",
       "3        97553        54          100  \n",
       "4       185232        89          103  "
      ]
     },
     "metadata": {},
     "output_type": "display_data"
    },
    {
     "name": "stdout",
     "output_type": "stream",
     "text": [
      "=== df_users ===\n",
      "<class 'pandas.core.frame.DataFrame'>\n",
      "RangeIndex: 120 entries, 0 to 119\n",
      "Data columns (total 7 columns):\n",
      " #   Column         Non-Null Count  Dtype \n",
      "---  ------         --------------  ----- \n",
      " 0   user_id        120 non-null    int64 \n",
      " 1   username       120 non-null    object\n",
      " 2   email          120 non-null    object\n",
      " 3   password       120 non-null    object\n",
      " 4   first_name     120 non-null    object\n",
      " 5   last_name      120 non-null    object\n",
      " 6   date_of_birth  120 non-null    object\n",
      "dtypes: int64(1), object(6)\n",
      "memory usage: 6.7+ KB\n",
      "None\n"
     ]
    },
    {
     "data": {
      "application/vnd.microsoft.datawrangler.viewer.v0+json": {
       "columns": [
        {
         "name": "index",
         "rawType": "int64",
         "type": "integer"
        },
        {
         "name": "user_id",
         "rawType": "int64",
         "type": "integer"
        },
        {
         "name": "username",
         "rawType": "object",
         "type": "string"
        },
        {
         "name": "email",
         "rawType": "object",
         "type": "string"
        },
        {
         "name": "password",
         "rawType": "object",
         "type": "string"
        },
        {
         "name": "first_name",
         "rawType": "object",
         "type": "string"
        },
        {
         "name": "last_name",
         "rawType": "object",
         "type": "string"
        },
        {
         "name": "date_of_birth",
         "rawType": "object",
         "type": "string"
        }
       ],
       "ref": "7a976b8c-be1a-4951-bdb3-ff34a6db83a2",
       "rows": [
        [
         "0",
         "1",
         "taylorkim",
         "taylorkim@example.com",
         "REDACTED",
         "Taylor",
         "Kim",
         "1997-01-12"
        ],
        [
         "1",
         "2",
         "rileygray",
         "rileygray@example.com",
         "REDACTED",
         "Riley",
         "Gray",
         "1997-11-28"
        ],
        [
         "2",
         "3",
         "jamiejames",
         "jamiejames@example.com",
         "REDACTED",
         "Jamie",
         "James",
         "2000-03-18"
        ],
        [
         "3",
         "4",
         "robindiaz",
         "robindiaz@example.com",
         "REDACTED",
         "Robin",
         "Diaz",
         "1996-04-06"
        ],
        [
         "4",
         "5",
         "julesramirez",
         "julesramirez@example.com",
         "REDACTED",
         "Jules",
         "Ramirez",
         "2000-06-10"
        ]
       ],
       "shape": {
        "columns": 7,
        "rows": 5
       }
      },
      "text/html": [
       "<div>\n",
       "<style scoped>\n",
       "    .dataframe tbody tr th:only-of-type {\n",
       "        vertical-align: middle;\n",
       "    }\n",
       "\n",
       "    .dataframe tbody tr th {\n",
       "        vertical-align: top;\n",
       "    }\n",
       "\n",
       "    .dataframe thead th {\n",
       "        text-align: right;\n",
       "    }\n",
       "</style>\n",
       "<table border=\"1\" class=\"dataframe\">\n",
       "  <thead>\n",
       "    <tr style=\"text-align: right;\">\n",
       "      <th></th>\n",
       "      <th>user_id</th>\n",
       "      <th>username</th>\n",
       "      <th>email</th>\n",
       "      <th>password</th>\n",
       "      <th>first_name</th>\n",
       "      <th>last_name</th>\n",
       "      <th>date_of_birth</th>\n",
       "    </tr>\n",
       "  </thead>\n",
       "  <tbody>\n",
       "    <tr>\n",
       "      <th>0</th>\n",
       "      <td>1</td>\n",
       "      <td>taylorkim</td>\n",
       "      <td>taylorkim@example.com</td>\n",
       "      <td>REDACTED</td>\n",
       "      <td>Taylor</td>\n",
       "      <td>Kim</td>\n",
       "      <td>1997-01-12</td>\n",
       "    </tr>\n",
       "    <tr>\n",
       "      <th>1</th>\n",
       "      <td>2</td>\n",
       "      <td>rileygray</td>\n",
       "      <td>rileygray@example.com</td>\n",
       "      <td>REDACTED</td>\n",
       "      <td>Riley</td>\n",
       "      <td>Gray</td>\n",
       "      <td>1997-11-28</td>\n",
       "    </tr>\n",
       "    <tr>\n",
       "      <th>2</th>\n",
       "      <td>3</td>\n",
       "      <td>jamiejames</td>\n",
       "      <td>jamiejames@example.com</td>\n",
       "      <td>REDACTED</td>\n",
       "      <td>Jamie</td>\n",
       "      <td>James</td>\n",
       "      <td>2000-03-18</td>\n",
       "    </tr>\n",
       "    <tr>\n",
       "      <th>3</th>\n",
       "      <td>4</td>\n",
       "      <td>robindiaz</td>\n",
       "      <td>robindiaz@example.com</td>\n",
       "      <td>REDACTED</td>\n",
       "      <td>Robin</td>\n",
       "      <td>Diaz</td>\n",
       "      <td>1996-04-06</td>\n",
       "    </tr>\n",
       "    <tr>\n",
       "      <th>4</th>\n",
       "      <td>5</td>\n",
       "      <td>julesramirez</td>\n",
       "      <td>julesramirez@example.com</td>\n",
       "      <td>REDACTED</td>\n",
       "      <td>Jules</td>\n",
       "      <td>Ramirez</td>\n",
       "      <td>2000-06-10</td>\n",
       "    </tr>\n",
       "  </tbody>\n",
       "</table>\n",
       "</div>"
      ],
      "text/plain": [
       "   user_id      username                     email  password first_name  \\\n",
       "0        1     taylorkim     taylorkim@example.com  REDACTED     Taylor   \n",
       "1        2     rileygray     rileygray@example.com  REDACTED      Riley   \n",
       "2        3    jamiejames    jamiejames@example.com  REDACTED      Jamie   \n",
       "3        4     robindiaz     robindiaz@example.com  REDACTED      Robin   \n",
       "4        5  julesramirez  julesramirez@example.com  REDACTED      Jules   \n",
       "\n",
       "  last_name date_of_birth  \n",
       "0       Kim    1997-01-12  \n",
       "1      Gray    1997-11-28  \n",
       "2     James    2000-03-18  \n",
       "3      Diaz    1996-04-06  \n",
       "4   Ramirez    2000-06-10  "
      ]
     },
     "metadata": {},
     "output_type": "display_data"
    }
   ],
   "source": [
    "names_of_dfs = [k for k in globals() if k.startswith(\"df_\")]\n",
    "for name in names_of_dfs:\n",
    "    df = globals()[name]\n",
    "    print(f\"=== {name} ===\")\n",
    "    print(df.info())\n",
    "    display(df.head(5))"
   ]
  }
 ],
 "metadata": {
  "kernelspec": {
   "display_name": "starzz-dashboard",
   "language": "python",
   "name": "python3"
  },
  "language_info": {
   "codemirror_mode": {
    "name": "ipython",
    "version": 3
   },
   "file_extension": ".py",
   "mimetype": "text/x-python",
   "name": "python",
   "nbconvert_exporter": "python",
   "pygments_lexer": "ipython3",
   "version": "3.11.13"
  }
 },
 "nbformat": 4,
 "nbformat_minor": 5
}
