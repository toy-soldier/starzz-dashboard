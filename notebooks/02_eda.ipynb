{
 "cells": [
  {
   "cell_type": "markdown",
   "id": "30c7f35e-666e-4b49-91b9-8ceb7eee0967",
   "metadata": {},
   "source": [
    "This notebook explores a mock dataset of stars, constellations, galaxies, and users. It demonstrates how I approach data analysis: cleaning, descriptive stats, inferential tests, and visualization — even in a science-inspired domain. Unlike my other projects, this project is focused on **statistics and analytical depth**.\n",
    "\n",
    "This notebook will focus on **exploratory data analysis**."
   ]
  },
  {
   "cell_type": "markdown",
   "id": "48430bdf-f71f-4667-984a-e12a022b5e79",
   "metadata": {},
   "source": [
    "First, import the necessary libraries and load the CSVs into dataframes.  Note that the CSVs that have already been cleaned up by `01_raw_data_cleanup.ipynb` are loaded."
   ]
  },
  {
   "cell_type": "code",
   "execution_count": 34,
   "id": "64e7e4a9-77b1-46ea-b20f-e3094e133260",
   "metadata": {},
   "outputs": [],
   "source": [
    "import pandas as pd\n",
    "import numpy as np\n",
    "import seaborn as sns\n",
    "import matplotlib.pyplot as plt\n",
    "\n",
    "SOURCE_FOLDER = \"../data/cleaned\"\n",
    "sns.set_theme(style=\"whitegrid\", palette=\"deep\")\n",
    "\n",
    "df_stars = pd.read_csv(f\"{SOURCE_FOLDER}/stars.csv\")\n",
    "df_constellations = pd.read_csv(f\"{SOURCE_FOLDER}/constellations.csv\")\n",
    "df_galaxies = pd.read_csv(f\"{SOURCE_FOLDER}/galaxies.csv\")\n",
    "df_users = pd.read_csv(f\"{SOURCE_FOLDER}/users.csv\")"
   ]
  },
  {
   "cell_type": "markdown",
   "id": "24365be1",
   "metadata": {},
   "source": [
    "Display some quick info about each dataframe."
   ]
  },
  {
   "cell_type": "code",
   "execution_count": 35,
   "id": "30832a60",
   "metadata": {},
   "outputs": [
    {
     "name": "stdout",
     "output_type": "stream",
     "text": [
      "=== df_stars ===\n",
      "<class 'pandas.core.frame.DataFrame'>\n",
      "RangeIndex: 503 entries, 0 to 502\n",
      "Data columns (total 12 columns):\n",
      " #   Column              Non-Null Count  Dtype  \n",
      "---  ------              --------------  -----  \n",
      " 0   star_id             503 non-null    int64  \n",
      " 1   star_name           503 non-null    object \n",
      " 2   star_type           503 non-null    object \n",
      " 3   constellation_id    503 non-null    int64  \n",
      " 4   right_ascension     503 non-null    float64\n",
      " 5   declination         503 non-null    float64\n",
      " 6   apparent_magnitude  503 non-null    float64\n",
      " 7   spectral_type       503 non-null    object \n",
      " 8   distance_mly        503 non-null    float64\n",
      " 9   temperature_k       503 non-null    float64\n",
      " 10  added_by            503 non-null    int64  \n",
      " 11  verified_by         503 non-null    int64  \n",
      "dtypes: float64(5), int64(4), object(3)\n",
      "memory usage: 47.3+ KB\n",
      "None\n"
     ]
    },
    {
     "data": {
      "text/html": [
       "<div>\n",
       "<style scoped>\n",
       "    .dataframe tbody tr th:only-of-type {\n",
       "        vertical-align: middle;\n",
       "    }\n",
       "\n",
       "    .dataframe tbody tr th {\n",
       "        vertical-align: top;\n",
       "    }\n",
       "\n",
       "    .dataframe thead th {\n",
       "        text-align: right;\n",
       "    }\n",
       "</style>\n",
       "<table border=\"1\" class=\"dataframe\">\n",
       "  <thead>\n",
       "    <tr style=\"text-align: right;\">\n",
       "      <th></th>\n",
       "      <th>star_id</th>\n",
       "      <th>star_name</th>\n",
       "      <th>star_type</th>\n",
       "      <th>constellation_id</th>\n",
       "      <th>right_ascension</th>\n",
       "      <th>declination</th>\n",
       "      <th>apparent_magnitude</th>\n",
       "      <th>spectral_type</th>\n",
       "      <th>distance_mly</th>\n",
       "      <th>temperature_k</th>\n",
       "      <th>added_by</th>\n",
       "      <th>verified_by</th>\n",
       "    </tr>\n",
       "  </thead>\n",
       "  <tbody>\n",
       "    <tr>\n",
       "      <th>0</th>\n",
       "      <td>1</td>\n",
       "      <td>Star-00001</td>\n",
       "      <td>Giant</td>\n",
       "      <td>5</td>\n",
       "      <td>245.746</td>\n",
       "      <td>-64.486</td>\n",
       "      <td>3.705</td>\n",
       "      <td>M</td>\n",
       "      <td>577.651</td>\n",
       "      <td>2887.0</td>\n",
       "      <td>89</td>\n",
       "      <td>107</td>\n",
       "    </tr>\n",
       "    <tr>\n",
       "      <th>1</th>\n",
       "      <td>2</td>\n",
       "      <td>Star-00002</td>\n",
       "      <td>Main Sequence</td>\n",
       "      <td>362</td>\n",
       "      <td>318.097</td>\n",
       "      <td>-83.532</td>\n",
       "      <td>3.085</td>\n",
       "      <td>G</td>\n",
       "      <td>312.768</td>\n",
       "      <td>5608.0</td>\n",
       "      <td>77</td>\n",
       "      <td>110</td>\n",
       "    </tr>\n",
       "    <tr>\n",
       "      <th>2</th>\n",
       "      <td>3</td>\n",
       "      <td>Star-00003</td>\n",
       "      <td>Main Sequence</td>\n",
       "      <td>317</td>\n",
       "      <td>226.618</td>\n",
       "      <td>-26.443</td>\n",
       "      <td>1.641</td>\n",
       "      <td>G</td>\n",
       "      <td>26.122</td>\n",
       "      <td>5749.0</td>\n",
       "      <td>34</td>\n",
       "      <td>99</td>\n",
       "    </tr>\n",
       "  </tbody>\n",
       "</table>\n",
       "</div>"
      ],
      "text/plain": [
       "   star_id   star_name      star_type  constellation_id  right_ascension  \\\n",
       "0        1  Star-00001          Giant                 5          245.746   \n",
       "1        2  Star-00002  Main Sequence               362          318.097   \n",
       "2        3  Star-00003  Main Sequence               317          226.618   \n",
       "\n",
       "   declination  apparent_magnitude spectral_type  distance_mly  temperature_k  \\\n",
       "0      -64.486               3.705             M       577.651         2887.0   \n",
       "1      -83.532               3.085             G       312.768         5608.0   \n",
       "2      -26.443               1.641             G        26.122         5749.0   \n",
       "\n",
       "   added_by  verified_by  \n",
       "0        89          107  \n",
       "1        77          110  \n",
       "2        34           99  "
      ]
     },
     "metadata": {},
     "output_type": "display_data"
    },
    {
     "name": "stdout",
     "output_type": "stream",
     "text": [
      "=== df_constellations ===\n",
      "<class 'pandas.core.frame.DataFrame'>\n",
      "RangeIndex: 405 entries, 0 to 404\n",
      "Data columns (total 5 columns):\n",
      " #   Column              Non-Null Count  Dtype \n",
      "---  ------              --------------  ----- \n",
      " 0   constellation_id    405 non-null    int64 \n",
      " 1   constellation_name  405 non-null    object\n",
      " 2   galaxy_id           405 non-null    int64 \n",
      " 3   added_by            405 non-null    int64 \n",
      " 4   verified_by         405 non-null    int64 \n",
      "dtypes: int64(4), object(1)\n",
      "memory usage: 15.9+ KB\n",
      "None\n"
     ]
    },
    {
     "data": {
      "text/html": [
       "<div>\n",
       "<style scoped>\n",
       "    .dataframe tbody tr th:only-of-type {\n",
       "        vertical-align: middle;\n",
       "    }\n",
       "\n",
       "    .dataframe tbody tr th {\n",
       "        vertical-align: top;\n",
       "    }\n",
       "\n",
       "    .dataframe thead th {\n",
       "        text-align: right;\n",
       "    }\n",
       "</style>\n",
       "<table border=\"1\" class=\"dataframe\">\n",
       "  <thead>\n",
       "    <tr style=\"text-align: right;\">\n",
       "      <th></th>\n",
       "      <th>constellation_id</th>\n",
       "      <th>constellation_name</th>\n",
       "      <th>galaxy_id</th>\n",
       "      <th>added_by</th>\n",
       "      <th>verified_by</th>\n",
       "    </tr>\n",
       "  </thead>\n",
       "  <tbody>\n",
       "    <tr>\n",
       "      <th>0</th>\n",
       "      <td>1</td>\n",
       "      <td>Constellation-001</td>\n",
       "      <td>232</td>\n",
       "      <td>1</td>\n",
       "      <td>97</td>\n",
       "    </tr>\n",
       "    <tr>\n",
       "      <th>1</th>\n",
       "      <td>2</td>\n",
       "      <td>Constellation-002</td>\n",
       "      <td>341</td>\n",
       "      <td>18</td>\n",
       "      <td>98</td>\n",
       "    </tr>\n",
       "    <tr>\n",
       "      <th>2</th>\n",
       "      <td>3</td>\n",
       "      <td>Constellation-003</td>\n",
       "      <td>397</td>\n",
       "      <td>71</td>\n",
       "      <td>115</td>\n",
       "    </tr>\n",
       "  </tbody>\n",
       "</table>\n",
       "</div>"
      ],
      "text/plain": [
       "   constellation_id constellation_name  galaxy_id  added_by  verified_by\n",
       "0                 1  Constellation-001        232         1           97\n",
       "1                 2  Constellation-002        341        18           98\n",
       "2                 3  Constellation-003        397        71          115"
      ]
     },
     "metadata": {},
     "output_type": "display_data"
    },
    {
     "name": "stdout",
     "output_type": "stream",
     "text": [
      "=== df_galaxies ===\n",
      "<class 'pandas.core.frame.DataFrame'>\n",
      "RangeIndex: 403 entries, 0 to 402\n",
      "Data columns (total 9 columns):\n",
      " #   Column        Non-Null Count  Dtype  \n",
      "---  ------        --------------  -----  \n",
      " 0   galaxy_id     403 non-null    int64  \n",
      " 1   galaxy_name   403 non-null    object \n",
      " 2   galaxy_type   403 non-null    object \n",
      " 3   distance_mly  403 non-null    float64\n",
      " 4   redshift      403 non-null    float64\n",
      " 5   mass_solar    403 non-null    int64  \n",
      " 6   diameter_ly   403 non-null    int64  \n",
      " 7   added_by      403 non-null    int64  \n",
      " 8   verified_by   403 non-null    int64  \n",
      "dtypes: float64(2), int64(5), object(2)\n",
      "memory usage: 28.5+ KB\n",
      "None\n"
     ]
    },
    {
     "data": {
      "text/html": [
       "<div>\n",
       "<style scoped>\n",
       "    .dataframe tbody tr th:only-of-type {\n",
       "        vertical-align: middle;\n",
       "    }\n",
       "\n",
       "    .dataframe tbody tr th {\n",
       "        vertical-align: top;\n",
       "    }\n",
       "\n",
       "    .dataframe thead th {\n",
       "        text-align: right;\n",
       "    }\n",
       "</style>\n",
       "<table border=\"1\" class=\"dataframe\">\n",
       "  <thead>\n",
       "    <tr style=\"text-align: right;\">\n",
       "      <th></th>\n",
       "      <th>galaxy_id</th>\n",
       "      <th>galaxy_name</th>\n",
       "      <th>galaxy_type</th>\n",
       "      <th>distance_mly</th>\n",
       "      <th>redshift</th>\n",
       "      <th>mass_solar</th>\n",
       "      <th>diameter_ly</th>\n",
       "      <th>added_by</th>\n",
       "      <th>verified_by</th>\n",
       "    </tr>\n",
       "  </thead>\n",
       "  <tbody>\n",
       "    <tr>\n",
       "      <th>0</th>\n",
       "      <td>1</td>\n",
       "      <td>Galaxy-001</td>\n",
       "      <td>Spiral</td>\n",
       "      <td>317.044</td>\n",
       "      <td>58.0326</td>\n",
       "      <td>275596326285</td>\n",
       "      <td>114330</td>\n",
       "      <td>23</td>\n",
       "      <td>113</td>\n",
       "    </tr>\n",
       "    <tr>\n",
       "      <th>1</th>\n",
       "      <td>2</td>\n",
       "      <td>Galaxy-002</td>\n",
       "      <td>Irregular</td>\n",
       "      <td>6.726</td>\n",
       "      <td>0.4860</td>\n",
       "      <td>30715124530</td>\n",
       "      <td>10575</td>\n",
       "      <td>16</td>\n",
       "      <td>101</td>\n",
       "    </tr>\n",
       "    <tr>\n",
       "      <th>2</th>\n",
       "      <td>3</td>\n",
       "      <td>Galaxy-003</td>\n",
       "      <td>Spiral</td>\n",
       "      <td>3.460</td>\n",
       "      <td>3.0099</td>\n",
       "      <td>99131106087</td>\n",
       "      <td>82716</td>\n",
       "      <td>41</td>\n",
       "      <td>111</td>\n",
       "    </tr>\n",
       "  </tbody>\n",
       "</table>\n",
       "</div>"
      ],
      "text/plain": [
       "   galaxy_id galaxy_name galaxy_type  distance_mly  redshift    mass_solar  \\\n",
       "0          1  Galaxy-001      Spiral       317.044   58.0326  275596326285   \n",
       "1          2  Galaxy-002   Irregular         6.726    0.4860   30715124530   \n",
       "2          3  Galaxy-003      Spiral         3.460    3.0099   99131106087   \n",
       "\n",
       "   diameter_ly  added_by  verified_by  \n",
       "0       114330        23          113  \n",
       "1        10575        16          101  \n",
       "2        82716        41          111  "
      ]
     },
     "metadata": {},
     "output_type": "display_data"
    },
    {
     "name": "stdout",
     "output_type": "stream",
     "text": [
      "=== df_users ===\n",
      "<class 'pandas.core.frame.DataFrame'>\n",
      "RangeIndex: 120 entries, 0 to 119\n",
      "Data columns (total 7 columns):\n",
      " #   Column         Non-Null Count  Dtype \n",
      "---  ------         --------------  ----- \n",
      " 0   user_id        120 non-null    int64 \n",
      " 1   username       120 non-null    object\n",
      " 2   email          120 non-null    object\n",
      " 3   password       120 non-null    object\n",
      " 4   first_name     120 non-null    object\n",
      " 5   last_name      120 non-null    object\n",
      " 6   date_of_birth  120 non-null    object\n",
      "dtypes: int64(1), object(6)\n",
      "memory usage: 6.7+ KB\n",
      "None\n"
     ]
    },
    {
     "data": {
      "text/html": [
       "<div>\n",
       "<style scoped>\n",
       "    .dataframe tbody tr th:only-of-type {\n",
       "        vertical-align: middle;\n",
       "    }\n",
       "\n",
       "    .dataframe tbody tr th {\n",
       "        vertical-align: top;\n",
       "    }\n",
       "\n",
       "    .dataframe thead th {\n",
       "        text-align: right;\n",
       "    }\n",
       "</style>\n",
       "<table border=\"1\" class=\"dataframe\">\n",
       "  <thead>\n",
       "    <tr style=\"text-align: right;\">\n",
       "      <th></th>\n",
       "      <th>user_id</th>\n",
       "      <th>username</th>\n",
       "      <th>email</th>\n",
       "      <th>password</th>\n",
       "      <th>first_name</th>\n",
       "      <th>last_name</th>\n",
       "      <th>date_of_birth</th>\n",
       "    </tr>\n",
       "  </thead>\n",
       "  <tbody>\n",
       "    <tr>\n",
       "      <th>0</th>\n",
       "      <td>1</td>\n",
       "      <td>taylorkim</td>\n",
       "      <td>taylorkim@example.com</td>\n",
       "      <td>REDACTED</td>\n",
       "      <td>Taylor</td>\n",
       "      <td>Kim</td>\n",
       "      <td>1997-01-12</td>\n",
       "    </tr>\n",
       "    <tr>\n",
       "      <th>1</th>\n",
       "      <td>2</td>\n",
       "      <td>rileygray</td>\n",
       "      <td>rileygray@example.com</td>\n",
       "      <td>REDACTED</td>\n",
       "      <td>Riley</td>\n",
       "      <td>Gray</td>\n",
       "      <td>1997-11-28</td>\n",
       "    </tr>\n",
       "    <tr>\n",
       "      <th>2</th>\n",
       "      <td>3</td>\n",
       "      <td>jamiejames</td>\n",
       "      <td>jamiejames@example.com</td>\n",
       "      <td>REDACTED</td>\n",
       "      <td>Jamie</td>\n",
       "      <td>James</td>\n",
       "      <td>2000-03-18</td>\n",
       "    </tr>\n",
       "  </tbody>\n",
       "</table>\n",
       "</div>"
      ],
      "text/plain": [
       "   user_id    username                   email  password first_name last_name  \\\n",
       "0        1   taylorkim   taylorkim@example.com  REDACTED     Taylor       Kim   \n",
       "1        2   rileygray   rileygray@example.com  REDACTED      Riley      Gray   \n",
       "2        3  jamiejames  jamiejames@example.com  REDACTED      Jamie     James   \n",
       "\n",
       "  date_of_birth  \n",
       "0    1997-01-12  \n",
       "1    1997-11-28  \n",
       "2    2000-03-18  "
      ]
     },
     "metadata": {},
     "output_type": "display_data"
    }
   ],
   "source": [
    "names_of_dfs = [k for k in globals() if k.startswith(\"df_\")]\n",
    "for name in names_of_dfs:\n",
    "    df = globals()[name]\n",
    "    print(f\"=== {name} ===\")\n",
    "    print(df.info())\n",
    "    display(df.head(3))"
   ]
  },
  {
   "cell_type": "markdown",
   "id": "d28d148a",
   "metadata": {},
   "source": [
    "Create some histograms on the data."
   ]
  },
  {
   "cell_type": "code",
   "execution_count": 36,
   "id": "af05c573",
   "metadata": {},
   "outputs": [
    {
     "data": {
      "image/png": "[encoded data removed]",
      "text/plain": [
       "<Figure size 500x300 with 1 Axes>"
      ]
     },
     "metadata": {},
     "output_type": "display_data"
    }
   ],
   "source": [
    "plt.figure(figsize=(5, 3))\n",
    "sns.histplot(df_stars[\"apparent_magnitude\"], bins=15)\n",
    "plt.title(\"Star Brightness\")\n",
    "plt.xlabel(\"Apparent Magnitude\")\n",
    "plt.ylabel(\"Count\")\n",
    "plt.show()"
   ]
  },
  {
   "cell_type": "markdown",
   "id": "27a27692",
   "metadata": {},
   "source": [
    "Above is a histogram for **Star Brightness**.  The lower the apparent magnitude of the star, the brighter it is.  The **stars** dataset thus contains mostly bright stars.  "
   ]
  },
  {
   "cell_type": "code",
   "execution_count": 37,
   "id": "a6d9e9db",
   "metadata": {},
   "outputs": [
    {
     "data": {
      "image/png": "[encoded data removed]",
      "text/plain": [
       "<Figure size 500x300 with 1 Axes>"
      ]
     },
     "metadata": {},
     "output_type": "display_data"
    }
   ],
   "source": [
    "stars_per_const = df_stars.groupby(\"constellation_id\").size().reset_index(name=\"count\")\n",
    "plt.figure(figsize=(5, 3))\n",
    "sns.histplot(stars_per_const[\"count\"], bins=7)\n",
    "plt.title(\"Stars per Constellation\")\n",
    "plt.xlabel(\"Stars\")\n",
    "plt.ylabel(\"Constellations\")\n",
    "plt.show()"
   ]
  },
  {
   "cell_type": "markdown",
   "id": "a19f789e",
   "metadata": {},
   "source": [
    "Above is a histogram for **Stars per Constellation**.  Note that even though I had specified that the constellations be distributed into 7 \"bins\", the chart only found 6.  The **constellations** dataset thus has constellations that have at most 6 stars that exist in the **stars** dataset."
   ]
  },
  {
   "cell_type": "code",
   "execution_count": 38,
   "id": "f82dae73",
   "metadata": {},
   "outputs": [
    {
     "data": {
      "image/png": "[encoded data removed]",
      "text/plain": [
       "<Figure size 500x300 with 1 Axes>"
      ]
     },
     "metadata": {},
     "output_type": "display_data"
    }
   ],
   "source": [
    "consts_per_gal = df_constellations.groupby(\"galaxy_id\").size().reset_index(name=\"count\")\n",
    "plt.figure(figsize=(5, 3))\n",
    "sns.histplot(consts_per_gal[\"count\"], bins=7)\n",
    "plt.title(\"Constellations per Galaxy\")\n",
    "plt.xlabel(\"Constellations\")\n",
    "plt.ylabel(\"Galaxies\")\n",
    "plt.show()"
   ]
  },
  {
   "cell_type": "markdown",
   "id": "10679925",
   "metadata": {},
   "source": [
    "Above is a histogram for **Constellations per Galaxy**.  Note that even though I had specified that the galaxies be distributed into 7 \"bins\", the chart only found 5.  The **galaxies** dataset thus has galaxies that have at most 5 constellations that exist in the **constellations** dataset."
   ]
  },
  {
   "cell_type": "code",
   "execution_count": 39,
   "id": "12c66ec7",
   "metadata": {},
   "outputs": [
    {
     "data": {
      "image/png": "[encoded data removed]",
      "text/plain": [
       "<Figure size 500x300 with 1 Axes>"
      ]
     },
     "metadata": {},
     "output_type": "display_data"
    }
   ],
   "source": [
    "df_users[\"role\"] = df_users[\"date_of_birth\"].apply(lambda dob: \"Junior\" if int(dob[:4]) >= 1995 else \"Senior\")\n",
    "\n",
    "plt.figure(figsize=(5, 3))\n",
    "sns.countplot(data=df_users, x=\"role\")\n",
    "plt.title(\"User Roles\")\n",
    "plt.xlabel(\"Role\")\n",
    "plt.ylabel(\"Count\")\n",
    "plt.show()"
   ]
  },
  {
   "cell_type": "markdown",
   "id": "fb1ede32",
   "metadata": {},
   "source": [
    "Above is a count plot for **User Roles**.  For simplicity, users are categorized as *Junior* for those 30 years old and younger, and *Senior* for everybody else.  The **users** dataset thus has many more *Junior*s than *Senior*s."
   ]
  }
 ],
 "metadata": {
  "kernelspec": {
   "display_name": "starzz-dashboard",
   "language": "python",
   "name": "python3"
  },
  "language_info": {
   "codemirror_mode": {
    "name": "ipython",
    "version": 3
   },
   "file_extension": ".py",
   "mimetype": "text/x-python",
   "name": "python",
   "nbconvert_exporter": "python",
   "pygments_lexer": "ipython3",
   "version": "3.11.13"
  }
 },
 "nbformat": 4,
 "nbformat_minor": 5
}
