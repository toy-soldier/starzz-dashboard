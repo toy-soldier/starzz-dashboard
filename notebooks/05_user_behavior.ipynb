{
 "cells": [
  {
   "cell_type": "markdown",
   "id": "30c7f35e-666e-4b49-91b9-8ceb7eee0967",
   "metadata": {},
   "source": [
    "This project explores a mock dataset of stars, constellations, galaxies, and users. It demonstrates how I approach data analysis: cleaning, descriptive stats, inferential tests, and visualization — even in a science-inspired domain. Unlike my other projects, this project is focused on **statistics and analytical depth**.\n",
    "\n",
    "This notebook focuses on **user behavior analysis**.  After analyzing the astronomy data in previous notebooks,\n",
    "we now turn to the people behind the data."
   ]
  },
  {
   "cell_type": "markdown",
   "id": "48430bdf-f71f-4667-984a-e12a022b5e79",
   "metadata": {},
   "source": [
    "First, import the necessary libraries and load the CSVs into dataframes.  Note that the CSVs that have already been cleaned up by `01_raw_data_cleanup.ipynb` are loaded."
   ]
  },
  {
   "cell_type": "code",
   "execution_count": 1,
   "id": "64e7e4a9-77b1-46ea-b20f-e3094e133260",
   "metadata": {},
   "outputs": [],
   "source": [
    "import pandas as pd\n",
    "import seaborn as sns\n",
    "import matplotlib.pyplot as plt\n",
    "\n",
    "\n",
    "SOURCE_FOLDER = \"../data/cleaned\"\n",
    "sns.set_theme(style=\"whitegrid\", palette=\"deep\")\n",
    "\n",
    "df_stars = pd.read_csv(f\"{SOURCE_FOLDER}/stars.csv\")\n",
    "df_constellations = pd.read_csv(f\"{SOURCE_FOLDER}/constellations.csv\")\n",
    "df_galaxies = pd.read_csv(f\"{SOURCE_FOLDER}/galaxies.csv\")\n",
    "df_users = pd.read_csv(f\"{SOURCE_FOLDER}/users.csv\")"
   ]
  },
  {
   "cell_type": "markdown",
   "id": "ddfa1648",
   "metadata": {},
   "source": [
    "First, link stars to their `added_by` and `verified_by` users so we can examine who contributes and who verifies."
   ]
  },
  {
   "cell_type": "code",
   "execution_count": 2,
   "id": "238ebd47",
   "metadata": {},
   "outputs": [
    {
     "data": {
      "application/vnd.microsoft.datawrangler.viewer.v0+json": {
       "columns": [
        {
         "name": "index",
         "rawType": "int64",
         "type": "integer"
        },
        {
         "name": "star_id",
         "rawType": "int64",
         "type": "integer"
        },
        {
         "name": "star_name",
         "rawType": "object",
         "type": "string"
        },
        {
         "name": "adder_username",
         "rawType": "object",
         "type": "string"
        },
        {
         "name": "adder_date_of_birth",
         "rawType": "object",
         "type": "string"
        },
        {
         "name": "verifier_username",
         "rawType": "object",
         "type": "string"
        },
        {
         "name": "verifier_date_of_birth",
         "rawType": "object",
         "type": "string"
        }
       ],
       "ref": "100a517d-f560-414b-a6de-cd21772649d9",
       "rows": [
        [
         "0",
         "1",
         "Star-00001",
         "quinncooper",
         "2001-10-25",
         "leereyes",
         "1991-03-21"
        ],
        [
         "1",
         "2",
         "Star-00002",
         "reesegonzalez",
         "2002-09-04",
         "noahali",
         "1989-08-20"
        ],
        [
         "2",
         "3",
         "Star-00003",
         "jamiechen",
         "1996-10-28",
         "maxcook",
         "1987-12-11"
        ],
        [
         "3",
         "4",
         "Star-00004",
         "aaronbailey",
         "1997-10-13",
         "averyramos",
         "1985-12-13"
        ],
        [
         "4",
         "5",
         "Star-00005",
         "chrisramos",
         "2001-09-15",
         "averyramos",
         "1985-12-13"
        ]
       ],
       "shape": {
        "columns": 6,
        "rows": 5
       }
      },
      "text/html": [
       "<div>\n",
       "<style scoped>\n",
       "    .dataframe tbody tr th:only-of-type {\n",
       "        vertical-align: middle;\n",
       "    }\n",
       "\n",
       "    .dataframe tbody tr th {\n",
       "        vertical-align: top;\n",
       "    }\n",
       "\n",
       "    .dataframe thead th {\n",
       "        text-align: right;\n",
       "    }\n",
       "</style>\n",
       "<table border=\"1\" class=\"dataframe\">\n",
       "  <thead>\n",
       "    <tr style=\"text-align: right;\">\n",
       "      <th></th>\n",
       "      <th>star_id</th>\n",
       "      <th>star_name</th>\n",
       "      <th>adder_username</th>\n",
       "      <th>adder_date_of_birth</th>\n",
       "      <th>verifier_username</th>\n",
       "      <th>verifier_date_of_birth</th>\n",
       "    </tr>\n",
       "  </thead>\n",
       "  <tbody>\n",
       "    <tr>\n",
       "      <th>0</th>\n",
       "      <td>1</td>\n",
       "      <td>Star-00001</td>\n",
       "      <td>quinncooper</td>\n",
       "      <td>2001-10-25</td>\n",
       "      <td>leereyes</td>\n",
       "      <td>1991-03-21</td>\n",
       "    </tr>\n",
       "    <tr>\n",
       "      <th>1</th>\n",
       "      <td>2</td>\n",
       "      <td>Star-00002</td>\n",
       "      <td>reesegonzalez</td>\n",
       "      <td>2002-09-04</td>\n",
       "      <td>noahali</td>\n",
       "      <td>1989-08-20</td>\n",
       "    </tr>\n",
       "    <tr>\n",
       "      <th>2</th>\n",
       "      <td>3</td>\n",
       "      <td>Star-00003</td>\n",
       "      <td>jamiechen</td>\n",
       "      <td>1996-10-28</td>\n",
       "      <td>maxcook</td>\n",
       "      <td>1987-12-11</td>\n",
       "    </tr>\n",
       "    <tr>\n",
       "      <th>3</th>\n",
       "      <td>4</td>\n",
       "      <td>Star-00004</td>\n",
       "      <td>aaronbailey</td>\n",
       "      <td>1997-10-13</td>\n",
       "      <td>averyramos</td>\n",
       "      <td>1985-12-13</td>\n",
       "    </tr>\n",
       "    <tr>\n",
       "      <th>4</th>\n",
       "      <td>5</td>\n",
       "      <td>Star-00005</td>\n",
       "      <td>chrisramos</td>\n",
       "      <td>2001-09-15</td>\n",
       "      <td>averyramos</td>\n",
       "      <td>1985-12-13</td>\n",
       "    </tr>\n",
       "  </tbody>\n",
       "</table>\n",
       "</div>"
      ],
      "text/plain": [
       "   star_id   star_name adder_username adder_date_of_birth verifier_username  \\\n",
       "0        1  Star-00001    quinncooper          2001-10-25          leereyes   \n",
       "1        2  Star-00002  reesegonzalez          2002-09-04           noahali   \n",
       "2        3  Star-00003      jamiechen          1996-10-28           maxcook   \n",
       "3        4  Star-00004    aaronbailey          1997-10-13        averyramos   \n",
       "4        5  Star-00005     chrisramos          2001-09-15        averyramos   \n",
       "\n",
       "  verifier_date_of_birth  \n",
       "0             1991-03-21  \n",
       "1             1989-08-20  \n",
       "2             1987-12-11  \n",
       "3             1985-12-13  \n",
       "4             1985-12-13  "
      ]
     },
     "execution_count": 2,
     "metadata": {},
     "output_type": "execute_result"
    }
   ],
   "source": [
    "stars_with_users = (\n",
    "    df_stars\n",
    "    .merge(df_users.add_prefix(\"adder_\"), left_on=\"added_by\", right_on=\"adder_user_id\")\n",
    "    .merge(df_users.add_prefix(\"verifier_\"), left_on=\"verified_by\", right_on=\"verifier_user_id\")\n",
    ")\n",
    "\n",
    "stars_with_users[[\n",
    "    \"star_id\", \"star_name\", \"adder_username\", \"adder_date_of_birth\",\n",
    "    \"verifier_username\", \"verifier_date_of_birth\"\n",
    "]].head()"
   ]
  },
  {
   "cell_type": "markdown",
   "id": "4b909c4c",
   "metadata": {},
   "source": [
    "When we eyeball the first rows, it seems that *adders* are consistently younger than *verifiers*.  To test this, we calculate ages and plot distributions."
   ]
  },
  {
   "cell_type": "code",
   "execution_count": 3,
   "id": "89e0cf30",
   "metadata": {},
   "outputs": [
    {
     "data": {
      "image/png": "[encoded data removed]",
      "text/plain": [
       "<Figure size 500x300 with 1 Axes>"
      ]
     },
     "metadata": {},
     "output_type": "display_data"
    }
   ],
   "source": [
    "# compute ages\n",
    "today_year = pd.to_datetime(\"today\").year\n",
    "stars_with_users[\"adder_age\"] = today_year - pd.to_datetime(stars_with_users[\"adder_date_of_birth\"]).dt.year\n",
    "stars_with_users[\"verifier_age\"] = today_year - pd.to_datetime(stars_with_users[\"verifier_date_of_birth\"]).dt.year\n",
    "\n",
    "plt.figure(figsize=(5, 3))\n",
    "sns.boxplot(data=stars_with_users[[\"adder_age\", \"verifier_age\"]])\n",
    "plt.title(\"Adders vs Verifiers (Stars)\")\n",
    "plt.ylabel(\"Age\")\n",
    "plt.show()"
   ]
  },
  {
   "cell_type": "markdown",
   "id": "9efa9d4d",
   "metadata": {},
   "source": [
    "The boxplot above shows age distributions for adders and verifiers in the **stars** dataset:\n",
    "\n",
    "- Adders fall mostly in their 20s.  \n",
    "- Verifiers fall mostly in their 30s.  \n",
    "- There is an outlier verifier around age 22.  \n",
    "\n",
    "Already we see a general split in responsibilities: younger users add, older users verify.\n",
    "\n",
    "To confirm whether this pattern holds across other datasets, we combine **stars**, **constellations** and **galaxies**."
   ]
  },
  {
   "cell_type": "code",
   "execution_count": 4,
   "id": "0bf86eef",
   "metadata": {},
   "outputs": [
    {
     "data": {
      "application/vnd.microsoft.datawrangler.viewer.v0+json": {
       "columns": [
        {
         "name": "index",
         "rawType": "int64",
         "type": "integer"
        },
        {
         "name": "type",
         "rawType": "object",
         "type": "string"
        },
        {
         "name": "id",
         "rawType": "int64",
         "type": "integer"
        },
        {
         "name": "name",
         "rawType": "object",
         "type": "string"
        },
        {
         "name": "added_by",
         "rawType": "int64",
         "type": "integer"
        },
        {
         "name": "verified_by",
         "rawType": "int64",
         "type": "integer"
        },
        {
         "name": "adder_user_id",
         "rawType": "int64",
         "type": "integer"
        },
        {
         "name": "adder_username",
         "rawType": "object",
         "type": "string"
        },
        {
         "name": "adder_email",
         "rawType": "object",
         "type": "string"
        },
        {
         "name": "adder_password",
         "rawType": "object",
         "type": "string"
        },
        {
         "name": "adder_first_name",
         "rawType": "object",
         "type": "string"
        },
        {
         "name": "adder_last_name",
         "rawType": "object",
         "type": "string"
        },
        {
         "name": "adder_date_of_birth",
         "rawType": "object",
         "type": "string"
        },
        {
         "name": "verifier_user_id",
         "rawType": "int64",
         "type": "integer"
        },
        {
         "name": "verifier_username",
         "rawType": "object",
         "type": "string"
        },
        {
         "name": "verifier_email",
         "rawType": "object",
         "type": "string"
        },
        {
         "name": "verifier_password",
         "rawType": "object",
         "type": "string"
        },
        {
         "name": "verifier_first_name",
         "rawType": "object",
         "type": "string"
        },
        {
         "name": "verifier_last_name",
         "rawType": "object",
         "type": "string"
        },
        {
         "name": "verifier_date_of_birth",
         "rawType": "object",
         "type": "string"
        }
       ],
       "ref": "b1b14f25-819f-4724-b249-9eda8a400cbb",
       "rows": [
        [
         "0",
         "Star",
         "1",
         "Star-00001",
         "89",
         "107",
         "89",
         "quinncooper",
         "quinncooper@example.com",
         "REDACTED",
         "Quinn",
         "Cooper",
         "2001-10-25",
         "107",
         "leereyes",
         "leereyes@example.com",
         "REDACTED",
         "Lee",
         "Reyes",
         "1991-03-21"
        ],
        [
         "503",
         "Constellation",
         "1",
         "Constellation-001",
         "1",
         "97",
         "1",
         "taylorkim",
         "taylorkim@example.com",
         "REDACTED",
         "Taylor",
         "Kim",
         "1997-01-12",
         "97",
         "harpertorres",
         "harpertorres@example.com",
         "REDACTED",
         "Harper",
         "Torres",
         "1991-11-07"
        ],
        [
         "908",
         "Galaxy",
         "1",
         "Galaxy-001",
         "23",
         "113",
         "23",
         "caseyscott",
         "caseyscott@example.com",
         "REDACTED",
         "Casey",
         "Scott",
         "2004-12-21",
         "113",
         "logancooper",
         "logancooper@example.com",
         "REDACTED",
         "Logan",
         "Cooper",
         "1992-07-02"
        ]
       ],
       "shape": {
        "columns": 19,
        "rows": 3
       }
      },
      "text/html": [
       "<div>\n",
       "<style scoped>\n",
       "    .dataframe tbody tr th:only-of-type {\n",
       "        vertical-align: middle;\n",
       "    }\n",
       "\n",
       "    .dataframe tbody tr th {\n",
       "        vertical-align: top;\n",
       "    }\n",
       "\n",
       "    .dataframe thead th {\n",
       "        text-align: right;\n",
       "    }\n",
       "</style>\n",
       "<table border=\"1\" class=\"dataframe\">\n",
       "  <thead>\n",
       "    <tr style=\"text-align: right;\">\n",
       "      <th></th>\n",
       "      <th>type</th>\n",
       "      <th>id</th>\n",
       "      <th>name</th>\n",
       "      <th>added_by</th>\n",
       "      <th>verified_by</th>\n",
       "      <th>adder_user_id</th>\n",
       "      <th>adder_username</th>\n",
       "      <th>adder_email</th>\n",
       "      <th>adder_password</th>\n",
       "      <th>adder_first_name</th>\n",
       "      <th>adder_last_name</th>\n",
       "      <th>adder_date_of_birth</th>\n",
       "      <th>verifier_user_id</th>\n",
       "      <th>verifier_username</th>\n",
       "      <th>verifier_email</th>\n",
       "      <th>verifier_password</th>\n",
       "      <th>verifier_first_name</th>\n",
       "      <th>verifier_last_name</th>\n",
       "      <th>verifier_date_of_birth</th>\n",
       "    </tr>\n",
       "  </thead>\n",
       "  <tbody>\n",
       "    <tr>\n",
       "      <th>0</th>\n",
       "      <td>Star</td>\n",
       "      <td>1</td>\n",
       "      <td>Star-00001</td>\n",
       "      <td>89</td>\n",
       "      <td>107</td>\n",
       "      <td>89</td>\n",
       "      <td>quinncooper</td>\n",
       "      <td>quinncooper@example.com</td>\n",
       "      <td>REDACTED</td>\n",
       "      <td>Quinn</td>\n",
       "      <td>Cooper</td>\n",
       "      <td>2001-10-25</td>\n",
       "      <td>107</td>\n",
       "      <td>leereyes</td>\n",
       "      <td>leereyes@example.com</td>\n",
       "      <td>REDACTED</td>\n",
       "      <td>Lee</td>\n",
       "      <td>Reyes</td>\n",
       "      <td>1991-03-21</td>\n",
       "    </tr>\n",
       "    <tr>\n",
       "      <th>503</th>\n",
       "      <td>Constellation</td>\n",
       "      <td>1</td>\n",
       "      <td>Constellation-001</td>\n",
       "      <td>1</td>\n",
       "      <td>97</td>\n",
       "      <td>1</td>\n",
       "      <td>taylorkim</td>\n",
       "      <td>taylorkim@example.com</td>\n",
       "      <td>REDACTED</td>\n",
       "      <td>Taylor</td>\n",
       "      <td>Kim</td>\n",
       "      <td>1997-01-12</td>\n",
       "      <td>97</td>\n",
       "      <td>harpertorres</td>\n",
       "      <td>harpertorres@example.com</td>\n",
       "      <td>REDACTED</td>\n",
       "      <td>Harper</td>\n",
       "      <td>Torres</td>\n",
       "      <td>1991-11-07</td>\n",
       "    </tr>\n",
       "    <tr>\n",
       "      <th>908</th>\n",
       "      <td>Galaxy</td>\n",
       "      <td>1</td>\n",
       "      <td>Galaxy-001</td>\n",
       "      <td>23</td>\n",
       "      <td>113</td>\n",
       "      <td>23</td>\n",
       "      <td>caseyscott</td>\n",
       "      <td>caseyscott@example.com</td>\n",
       "      <td>REDACTED</td>\n",
       "      <td>Casey</td>\n",
       "      <td>Scott</td>\n",
       "      <td>2004-12-21</td>\n",
       "      <td>113</td>\n",
       "      <td>logancooper</td>\n",
       "      <td>logancooper@example.com</td>\n",
       "      <td>REDACTED</td>\n",
       "      <td>Logan</td>\n",
       "      <td>Cooper</td>\n",
       "      <td>1992-07-02</td>\n",
       "    </tr>\n",
       "  </tbody>\n",
       "</table>\n",
       "</div>"
      ],
      "text/plain": [
       "              type  id               name  added_by  verified_by  \\\n",
       "0             Star   1         Star-00001        89          107   \n",
       "503  Constellation   1  Constellation-001         1           97   \n",
       "908         Galaxy   1         Galaxy-001        23          113   \n",
       "\n",
       "     adder_user_id adder_username              adder_email adder_password  \\\n",
       "0               89    quinncooper  quinncooper@example.com       REDACTED   \n",
       "503              1      taylorkim    taylorkim@example.com       REDACTED   \n",
       "908             23     caseyscott   caseyscott@example.com       REDACTED   \n",
       "\n",
       "    adder_first_name adder_last_name adder_date_of_birth  verifier_user_id  \\\n",
       "0              Quinn          Cooper          2001-10-25               107   \n",
       "503           Taylor             Kim          1997-01-12                97   \n",
       "908            Casey           Scott          2004-12-21               113   \n",
       "\n",
       "    verifier_username            verifier_email verifier_password  \\\n",
       "0            leereyes      leereyes@example.com          REDACTED   \n",
       "503      harpertorres  harpertorres@example.com          REDACTED   \n",
       "908       logancooper   logancooper@example.com          REDACTED   \n",
       "\n",
       "    verifier_first_name verifier_last_name verifier_date_of_birth  \n",
       "0                   Lee              Reyes             1991-03-21  \n",
       "503              Harper             Torres             1991-11-07  \n",
       "908               Logan             Cooper             1992-07-02  "
      ]
     },
     "metadata": {},
     "output_type": "display_data"
    }
   ],
   "source": [
    "df_stars_trimmed = df_stars[[\"star_id\", \"star_name\", \"added_by\", \"verified_by\"]\n",
    "                            ].rename(columns={\"star_id\": \"id\", \"star_name\": \"name\"})\n",
    "df_stars_trimmed.insert(0, \"type\", \"Star\")\n",
    "\n",
    "df_constellations_trimmed = df_constellations[[\"constellation_id\", \"constellation_name\", \"added_by\", \"verified_by\"]\n",
    "                            ].rename(columns={\"constellation_id\": \"id\", \"constellation_name\": \"name\"})\n",
    "df_constellations_trimmed.insert(0, \"type\", \"Constellation\")\n",
    "\n",
    "df_galaxies_trimmed = df_galaxies[[\"galaxy_id\", \"galaxy_name\", \"added_by\", \"verified_by\"]\n",
    "                            ].rename(columns={\"galaxy_id\": \"id\", \"galaxy_name\": \"name\"})\n",
    "df_galaxies_trimmed.insert(0, \"type\", \"Galaxy\")\n",
    "\n",
    "df_combined = pd.concat([df_stars_trimmed, df_constellations_trimmed, df_galaxies_trimmed])\n",
    "df_combined = (\n",
    "    df_combined\n",
    "    .merge(df_users.add_prefix(\"adder_\"), left_on=\"added_by\", right_on=\"adder_user_id\")\n",
    "    .merge(df_users.add_prefix(\"verifier_\"), left_on=\"verified_by\", right_on=\"verifier_user_id\")\n",
    ")\n",
    "display(df_combined[df_combined[\"id\"] == 1])\n"
   ]
  },
  {
   "cell_type": "code",
   "execution_count": 5,
   "id": "317d5bee",
   "metadata": {},
   "outputs": [
    {
     "data": {
      "image/png": "[encoded data removed]",
      "text/plain": [
       "<Figure size 500x300 with 1 Axes>"
      ]
     },
     "metadata": {},
     "output_type": "display_data"
    }
   ],
   "source": [
    "df_combined[\"adder_age\"] = today_year - pd.to_datetime(df_combined[\"adder_date_of_birth\"]).dt.year\n",
    "df_combined[\"verifier_age\"] = today_year - pd.to_datetime(df_combined[\"verifier_date_of_birth\"]).dt.year\n",
    "\n",
    "plt.figure(figsize=(5, 3))\n",
    "sns.boxplot(data=df_combined[[\"adder_age\", \"verifier_age\"]])\n",
    "plt.title(\"Adders vs Verifiers (All)\")\n",
    "plt.ylabel(\"Age\")\n",
    "plt.show()"
   ]
  },
  {
   "cell_type": "markdown",
   "id": "a0298806",
   "metadata": {},
   "source": [
    "The combined boxplot again shows:\n",
    "- Adders: clustered in the 20–30 range.  \n",
    "- Verifiers: clustered in the 30–40 range.  \n",
    "- A handful of verifiers in their early 20s show up as outliers.\n",
    "\n",
    "We now look more closely at the records that don't conform to this pattern."
   ]
  },
  {
   "cell_type": "code",
   "execution_count": 6,
   "id": "7b2e5df5",
   "metadata": {},
   "outputs": [
    {
     "data": {
      "application/vnd.microsoft.datawrangler.viewer.v0+json": {
       "columns": [
        {
         "name": "index",
         "rawType": "int64",
         "type": "integer"
        },
        {
         "name": "type",
         "rawType": "object",
         "type": "string"
        },
        {
         "name": "id",
         "rawType": "int64",
         "type": "integer"
        },
        {
         "name": "name",
         "rawType": "object",
         "type": "string"
        },
        {
         "name": "added_by",
         "rawType": "int64",
         "type": "integer"
        },
        {
         "name": "verified_by",
         "rawType": "int64",
         "type": "integer"
        },
        {
         "name": "adder_user_id",
         "rawType": "int64",
         "type": "integer"
        },
        {
         "name": "adder_username",
         "rawType": "object",
         "type": "string"
        },
        {
         "name": "adder_email",
         "rawType": "object",
         "type": "string"
        },
        {
         "name": "adder_password",
         "rawType": "object",
         "type": "string"
        },
        {
         "name": "adder_first_name",
         "rawType": "object",
         "type": "string"
        },
        {
         "name": "adder_last_name",
         "rawType": "object",
         "type": "string"
        },
        {
         "name": "adder_date_of_birth",
         "rawType": "object",
         "type": "string"
        },
        {
         "name": "verifier_user_id",
         "rawType": "int64",
         "type": "integer"
        },
        {
         "name": "verifier_username",
         "rawType": "object",
         "type": "string"
        },
        {
         "name": "verifier_email",
         "rawType": "object",
         "type": "string"
        },
        {
         "name": "verifier_password",
         "rawType": "object",
         "type": "string"
        },
        {
         "name": "verifier_first_name",
         "rawType": "object",
         "type": "string"
        },
        {
         "name": "verifier_last_name",
         "rawType": "object",
         "type": "string"
        },
        {
         "name": "verifier_date_of_birth",
         "rawType": "object",
         "type": "string"
        },
        {
         "name": "adder_age",
         "rawType": "int32",
         "type": "integer"
        },
        {
         "name": "verifier_age",
         "rawType": "int32",
         "type": "integer"
        }
       ],
       "ref": "67c55f09-a5ad-4665-903a-f5c9a8fa4d44",
       "rows": [
        [
         "502",
         "Star",
         "10008",
         "Sirius",
         "19",
         "95",
         "19",
         "morgannguyen",
         "morgannguyen@example.com",
         "REDACTED",
         "Morgan",
         "Nguyen",
         "1998-05-02",
         "95",
         "jamiekelly",
         "jamiekelly@example.com",
         "REDACTED",
         "Jamie",
         "Kelly",
         "2003-10-11",
         "27",
         "22"
        ],
        [
         "903",
         "Constellation",
         "1001",
         "Orion",
         "42",
         "88",
         "42",
         "zoenguyen",
         "zoenguyen@example.com",
         "REDACTED",
         "Zoe",
         "Nguyen",
         "2003-11-16",
         "88",
         "chrisjames",
         "chrisjames@example.com",
         "REDACTED",
         "Chris",
         "James",
         "2005-12-26",
         "22",
         "20"
        ],
        [
         "904",
         "Constellation",
         "1003",
         "Cassiopea",
         "39",
         "75",
         "39",
         "alexpatel",
         "alexpatel@example.com",
         "REDACTED",
         "Alex",
         "Patel",
         "2004-01-22",
         "75",
         "aaronbailey",
         "aaronbailey@example.com",
         "REDACTED",
         "Aaron",
         "Bailey",
         "1997-10-13",
         "21",
         "28"
        ],
        [
         "906",
         "Constellation",
         "1010",
         "Milky Way Test",
         "22",
         "77",
         "22",
         "averyortiz",
         "averyortiz@example.com",
         "REDACTED",
         "Avery",
         "Ortiz",
         "1996-03-18",
         "77",
         "reesegonzalez",
         "reesegonzalez@example.com",
         "REDACTED",
         "Reese",
         "Gonzalez",
         "2002-09-04",
         "29",
         "23"
        ],
        [
         "1308",
         "Galaxy",
         "1501",
         "Milky Way",
         "45",
         "90",
         "45",
         "rowanbrooks",
         "rowanbrooks@example.com",
         "REDACTED",
         "Rowan",
         "Brooks",
         "1999-02-12",
         "90",
         "maxtorres",
         "maxtorres@example.com",
         "REDACTED",
         "Max",
         "Torres",
         "2000-01-16",
         "26",
         "25"
        ],
        [
         "1309",
         "Galaxy",
         "1503",
         "Andromdea",
         "32",
         "81",
         "32",
         "jordangomez",
         "jordangomez@example.com",
         "REDACTED",
         "Jordan",
         "Gomez",
         "1995-05-28",
         "81",
         "alexcooper",
         "alexcooper@example.com",
         "REDACTED",
         "Alex",
         "Cooper",
         "1999-04-26",
         "30",
         "26"
        ]
       ],
       "shape": {
        "columns": 21,
        "rows": 6
       }
      },
      "text/html": [
       "<div>\n",
       "<style scoped>\n",
       "    .dataframe tbody tr th:only-of-type {\n",
       "        vertical-align: middle;\n",
       "    }\n",
       "\n",
       "    .dataframe tbody tr th {\n",
       "        vertical-align: top;\n",
       "    }\n",
       "\n",
       "    .dataframe thead th {\n",
       "        text-align: right;\n",
       "    }\n",
       "</style>\n",
       "<table border=\"1\" class=\"dataframe\">\n",
       "  <thead>\n",
       "    <tr style=\"text-align: right;\">\n",
       "      <th></th>\n",
       "      <th>type</th>\n",
       "      <th>id</th>\n",
       "      <th>name</th>\n",
       "      <th>added_by</th>\n",
       "      <th>verified_by</th>\n",
       "      <th>adder_user_id</th>\n",
       "      <th>adder_username</th>\n",
       "      <th>adder_email</th>\n",
       "      <th>adder_password</th>\n",
       "      <th>adder_first_name</th>\n",
       "      <th>...</th>\n",
       "      <th>adder_date_of_birth</th>\n",
       "      <th>verifier_user_id</th>\n",
       "      <th>verifier_username</th>\n",
       "      <th>verifier_email</th>\n",
       "      <th>verifier_password</th>\n",
       "      <th>verifier_first_name</th>\n",
       "      <th>verifier_last_name</th>\n",
       "      <th>verifier_date_of_birth</th>\n",
       "      <th>adder_age</th>\n",
       "      <th>verifier_age</th>\n",
       "    </tr>\n",
       "  </thead>\n",
       "  <tbody>\n",
       "    <tr>\n",
       "      <th>502</th>\n",
       "      <td>Star</td>\n",
       "      <td>10008</td>\n",
       "      <td>Sirius</td>\n",
       "      <td>19</td>\n",
       "      <td>95</td>\n",
       "      <td>19</td>\n",
       "      <td>morgannguyen</td>\n",
       "      <td>morgannguyen@example.com</td>\n",
       "      <td>REDACTED</td>\n",
       "      <td>Morgan</td>\n",
       "      <td>...</td>\n",
       "      <td>1998-05-02</td>\n",
       "      <td>95</td>\n",
       "      <td>jamiekelly</td>\n",
       "      <td>jamiekelly@example.com</td>\n",
       "      <td>REDACTED</td>\n",
       "      <td>Jamie</td>\n",
       "      <td>Kelly</td>\n",
       "      <td>2003-10-11</td>\n",
       "      <td>27</td>\n",
       "      <td>22</td>\n",
       "    </tr>\n",
       "    <tr>\n",
       "      <th>903</th>\n",
       "      <td>Constellation</td>\n",
       "      <td>1001</td>\n",
       "      <td>Orion</td>\n",
       "      <td>42</td>\n",
       "      <td>88</td>\n",
       "      <td>42</td>\n",
       "      <td>zoenguyen</td>\n",
       "      <td>zoenguyen@example.com</td>\n",
       "      <td>REDACTED</td>\n",
       "      <td>Zoe</td>\n",
       "      <td>...</td>\n",
       "      <td>2003-11-16</td>\n",
       "      <td>88</td>\n",
       "      <td>chrisjames</td>\n",
       "      <td>chrisjames@example.com</td>\n",
       "      <td>REDACTED</td>\n",
       "      <td>Chris</td>\n",
       "      <td>James</td>\n",
       "      <td>2005-12-26</td>\n",
       "      <td>22</td>\n",
       "      <td>20</td>\n",
       "    </tr>\n",
       "    <tr>\n",
       "      <th>904</th>\n",
       "      <td>Constellation</td>\n",
       "      <td>1003</td>\n",
       "      <td>Cassiopea</td>\n",
       "      <td>39</td>\n",
       "      <td>75</td>\n",
       "      <td>39</td>\n",
       "      <td>alexpatel</td>\n",
       "      <td>alexpatel@example.com</td>\n",
       "      <td>REDACTED</td>\n",
       "      <td>Alex</td>\n",
       "      <td>...</td>\n",
       "      <td>2004-01-22</td>\n",
       "      <td>75</td>\n",
       "      <td>aaronbailey</td>\n",
       "      <td>aaronbailey@example.com</td>\n",
       "      <td>REDACTED</td>\n",
       "      <td>Aaron</td>\n",
       "      <td>Bailey</td>\n",
       "      <td>1997-10-13</td>\n",
       "      <td>21</td>\n",
       "      <td>28</td>\n",
       "    </tr>\n",
       "    <tr>\n",
       "      <th>906</th>\n",
       "      <td>Constellation</td>\n",
       "      <td>1010</td>\n",
       "      <td>Milky Way Test</td>\n",
       "      <td>22</td>\n",
       "      <td>77</td>\n",
       "      <td>22</td>\n",
       "      <td>averyortiz</td>\n",
       "      <td>averyortiz@example.com</td>\n",
       "      <td>REDACTED</td>\n",
       "      <td>Avery</td>\n",
       "      <td>...</td>\n",
       "      <td>1996-03-18</td>\n",
       "      <td>77</td>\n",
       "      <td>reesegonzalez</td>\n",
       "      <td>reesegonzalez@example.com</td>\n",
       "      <td>REDACTED</td>\n",
       "      <td>Reese</td>\n",
       "      <td>Gonzalez</td>\n",
       "      <td>2002-09-04</td>\n",
       "      <td>29</td>\n",
       "      <td>23</td>\n",
       "    </tr>\n",
       "    <tr>\n",
       "      <th>1308</th>\n",
       "      <td>Galaxy</td>\n",
       "      <td>1501</td>\n",
       "      <td>Milky Way</td>\n",
       "      <td>45</td>\n",
       "      <td>90</td>\n",
       "      <td>45</td>\n",
       "      <td>rowanbrooks</td>\n",
       "      <td>rowanbrooks@example.com</td>\n",
       "      <td>REDACTED</td>\n",
       "      <td>Rowan</td>\n",
       "      <td>...</td>\n",
       "      <td>1999-02-12</td>\n",
       "      <td>90</td>\n",
       "      <td>maxtorres</td>\n",
       "      <td>maxtorres@example.com</td>\n",
       "      <td>REDACTED</td>\n",
       "      <td>Max</td>\n",
       "      <td>Torres</td>\n",
       "      <td>2000-01-16</td>\n",
       "      <td>26</td>\n",
       "      <td>25</td>\n",
       "    </tr>\n",
       "    <tr>\n",
       "      <th>1309</th>\n",
       "      <td>Galaxy</td>\n",
       "      <td>1503</td>\n",
       "      <td>Andromdea</td>\n",
       "      <td>32</td>\n",
       "      <td>81</td>\n",
       "      <td>32</td>\n",
       "      <td>jordangomez</td>\n",
       "      <td>jordangomez@example.com</td>\n",
       "      <td>REDACTED</td>\n",
       "      <td>Jordan</td>\n",
       "      <td>...</td>\n",
       "      <td>1995-05-28</td>\n",
       "      <td>81</td>\n",
       "      <td>alexcooper</td>\n",
       "      <td>alexcooper@example.com</td>\n",
       "      <td>REDACTED</td>\n",
       "      <td>Alex</td>\n",
       "      <td>Cooper</td>\n",
       "      <td>1999-04-26</td>\n",
       "      <td>30</td>\n",
       "      <td>26</td>\n",
       "    </tr>\n",
       "  </tbody>\n",
       "</table>\n",
       "<p>6 rows × 21 columns</p>\n",
       "</div>"
      ],
      "text/plain": [
       "               type     id            name  added_by  verified_by  \\\n",
       "502            Star  10008          Sirius        19           95   \n",
       "903   Constellation   1001           Orion        42           88   \n",
       "904   Constellation   1003       Cassiopea        39           75   \n",
       "906   Constellation   1010  Milky Way Test        22           77   \n",
       "1308         Galaxy   1501       Milky Way        45           90   \n",
       "1309         Galaxy   1503       Andromdea        32           81   \n",
       "\n",
       "      adder_user_id adder_username               adder_email adder_password  \\\n",
       "502              19   morgannguyen  morgannguyen@example.com       REDACTED   \n",
       "903              42      zoenguyen     zoenguyen@example.com       REDACTED   \n",
       "904              39      alexpatel     alexpatel@example.com       REDACTED   \n",
       "906              22     averyortiz    averyortiz@example.com       REDACTED   \n",
       "1308             45    rowanbrooks   rowanbrooks@example.com       REDACTED   \n",
       "1309             32    jordangomez   jordangomez@example.com       REDACTED   \n",
       "\n",
       "     adder_first_name  ... adder_date_of_birth verifier_user_id  \\\n",
       "502            Morgan  ...          1998-05-02               95   \n",
       "903               Zoe  ...          2003-11-16               88   \n",
       "904              Alex  ...          2004-01-22               75   \n",
       "906             Avery  ...          1996-03-18               77   \n",
       "1308            Rowan  ...          1999-02-12               90   \n",
       "1309           Jordan  ...          1995-05-28               81   \n",
       "\n",
       "      verifier_username             verifier_email verifier_password  \\\n",
       "502          jamiekelly     jamiekelly@example.com          REDACTED   \n",
       "903          chrisjames     chrisjames@example.com          REDACTED   \n",
       "904         aaronbailey    aaronbailey@example.com          REDACTED   \n",
       "906       reesegonzalez  reesegonzalez@example.com          REDACTED   \n",
       "1308          maxtorres      maxtorres@example.com          REDACTED   \n",
       "1309         alexcooper     alexcooper@example.com          REDACTED   \n",
       "\n",
       "     verifier_first_name verifier_last_name verifier_date_of_birth adder_age  \\\n",
       "502                Jamie              Kelly             2003-10-11        27   \n",
       "903                Chris              James             2005-12-26        22   \n",
       "904                Aaron             Bailey             1997-10-13        21   \n",
       "906                Reese           Gonzalez             2002-09-04        29   \n",
       "1308                 Max             Torres             2000-01-16        26   \n",
       "1309                Alex             Cooper             1999-04-26        30   \n",
       "\n",
       "      verifier_age  \n",
       "502             22  \n",
       "903             20  \n",
       "904             28  \n",
       "906             23  \n",
       "1308            25  \n",
       "1309            26  \n",
       "\n",
       "[6 rows x 21 columns]"
      ]
     },
     "metadata": {},
     "output_type": "display_data"
    }
   ],
   "source": [
    "display(df_combined[df_combined[\"verifier_age\"] < 30])"
   ]
  },
  {
   "cell_type": "markdown",
   "id": "28d6fcac",
   "metadata": {},
   "source": [
    "There are 6 records that don't align: a star with `star_id` 10008, 3 constellations with `constellation_id` 1001, 1003 and 1010, and 2 galaxies with `galaxy_id` 1501 and 1503.  I am flagging them.  Here is the reasoning:\n",
    "\n",
    "- For **apparent magnitude**, outliers were **kept** because the *business rules* explicitly state that apparent magnitude values can range from 0 to 10.  Even if a star looks unusually bright or faint compared to the majority, as long as it falls within that range, it is considered valid data.  \n",
    "\n",
    "- For **verifier ages**, no explicit rule exists that defines what is \"valid\" but the pattern shows that verifiers are consistently older than adders. A handful of verifiers break this pattern.  Because there is no business rule justifying these anomalies, they are suspicious and may be the result of inconsistent data entry or incorrect assignments.  \n",
    "\n",
    "In a real-world project, I would **flag these records to the data owner for clarification** before continuing.  For this demo, I filter them out to keep the analysis consistent with the majority pattern observed in the dataset."
   ]
  },
  {
   "cell_type": "code",
   "execution_count": 7,
   "id": "6a85cfff",
   "metadata": {},
   "outputs": [
    {
     "name": "stdout",
     "output_type": "stream",
     "text": [
      "(1305, 21)\n"
     ]
    }
   ],
   "source": [
    "df_combined = df_combined[df_combined[\"verifier_age\"] >= 30]\n",
    "print(df_combined.shape)"
   ]
  },
  {
   "cell_type": "markdown",
   "id": "7004aae8",
   "metadata": {},
   "source": [
    "We now redraw the **Adders vs Verifiers (All)** boxplot."
   ]
  },
  {
   "cell_type": "code",
   "execution_count": 8,
   "id": "92f70f1b",
   "metadata": {},
   "outputs": [
    {
     "data": {
      "image/png": "[encoded data removed]",
      "text/plain": [
       "<Figure size 500x300 with 1 Axes>"
      ]
     },
     "metadata": {},
     "output_type": "display_data"
    }
   ],
   "source": [
    "df_combined[\"adder_age\"] = today_year - pd.to_datetime(df_combined[\"adder_date_of_birth\"]).dt.year\n",
    "df_combined[\"verifier_age\"] = today_year - pd.to_datetime(df_combined[\"verifier_date_of_birth\"]).dt.year\n",
    "\n",
    "plt.figure(figsize=(5, 3))\n",
    "sns.boxplot(data=df_combined[[\"adder_age\", \"verifier_age\"]])\n",
    "plt.title(\"Adders vs Verifiers (All)\")\n",
    "plt.ylabel(\"Age\")\n",
    "plt.show()"
   ]
  },
  {
   "cell_type": "markdown",
   "id": "b787e7bb",
   "metadata": {},
   "source": [
    "Next, we look at **how much each user contributes** — both adders and verifiers.  This helps us see if the workload is evenly distributed, or if some people carry much more of the load than others."
   ]
  },
  {
   "cell_type": "code",
   "execution_count": 9,
   "id": "c6800eae",
   "metadata": {},
   "outputs": [
    {
     "data": {
      "image/png": "[encoded data removed]",
      "text/plain": [
       "<Figure size 500x300 with 1 Axes>"
      ]
     },
     "metadata": {},
     "output_type": "display_data"
    }
   ],
   "source": [
    "# Count contributions per adder and verifier\n",
    "adder_counts = df_combined.groupby(\"adder_username\").size().reset_index(name=\"records_added\")\n",
    "verifier_counts = df_combined.groupby(\"verifier_username\").size().reset_index(name=\"records_verified\")\n",
    "\n",
    "# Boxplot to compare distributions\n",
    "plt.figure(figsize=(5, 3))\n",
    "sns.boxplot(data=[adder_counts[\"records_added\"], verifier_counts[\"records_verified\"]])\n",
    "plt.xticks([0, 1], [\"Adders\", \"Verifiers\"])\n",
    "plt.title(\"Contributions per User\")\n",
    "plt.ylabel(\"Number of Records\")\n",
    "plt.show()\n"
   ]
  },
  {
   "cell_type": "markdown",
   "id": "8cc9adb7",
   "metadata": {},
   "source": [
    "The boxplot shows a clear difference:\n",
    "- **Adders** typically contribute fewer records (around 10–20 each).\n",
    "- **Verifiers** handle much more (around 40–60 each).\n",
    "\n",
    "This pattern makes business sense:\n",
    "- Adding requires more effort (finding and recording new entities).\n",
    "- Verifying is lighter work (checking what was already added).\n",
    "\n",
    "So we naturally expect *fewer contributions per adder* and *more verifications per verifier*."
   ]
  },
  {
   "cell_type": "markdown",
   "id": "78efafb1",
   "metadata": {},
   "source": [
    "Notice that we have verifiers who verified very few records:"
   ]
  },
  {
   "cell_type": "code",
   "execution_count": 10,
   "id": "b2c0064e",
   "metadata": {},
   "outputs": [
    {
     "name": "stdout",
     "output_type": "stream",
     "text": [
      "  verifier_username  records_verified\n",
      "2        blakeramos                 1\n",
      "5        caseyreyes                 1\n"
     ]
    }
   ],
   "source": [
    "print(verifier_counts[verifier_counts[\"records_verified\"] < 20])"
   ]
  },
  {
   "cell_type": "markdown",
   "id": "1b9cb622",
   "metadata": {},
   "source": [
    "There are two users with 1 verification each.  We now filter the `df_combined` dataframe for the records verified by these users."
   ]
  },
  {
   "cell_type": "code",
   "execution_count": 11,
   "id": "0617b384",
   "metadata": {},
   "outputs": [
    {
     "data": {
      "application/vnd.microsoft.datawrangler.viewer.v0+json": {
       "columns": [
        {
         "name": "index",
         "rawType": "int64",
         "type": "integer"
        },
        {
         "name": "type",
         "rawType": "object",
         "type": "string"
        },
        {
         "name": "id",
         "rawType": "int64",
         "type": "integer"
        },
        {
         "name": "name",
         "rawType": "object",
         "type": "string"
        },
        {
         "name": "added_by",
         "rawType": "int64",
         "type": "integer"
        },
        {
         "name": "verified_by",
         "rawType": "int64",
         "type": "integer"
        },
        {
         "name": "adder_user_id",
         "rawType": "int64",
         "type": "integer"
        },
        {
         "name": "adder_username",
         "rawType": "object",
         "type": "string"
        },
        {
         "name": "adder_email",
         "rawType": "object",
         "type": "string"
        },
        {
         "name": "adder_password",
         "rawType": "object",
         "type": "string"
        },
        {
         "name": "adder_first_name",
         "rawType": "object",
         "type": "string"
        },
        {
         "name": "adder_last_name",
         "rawType": "object",
         "type": "string"
        },
        {
         "name": "adder_date_of_birth",
         "rawType": "object",
         "type": "string"
        },
        {
         "name": "verifier_user_id",
         "rawType": "int64",
         "type": "integer"
        },
        {
         "name": "verifier_username",
         "rawType": "object",
         "type": "string"
        },
        {
         "name": "verifier_email",
         "rawType": "object",
         "type": "string"
        },
        {
         "name": "verifier_password",
         "rawType": "object",
         "type": "string"
        },
        {
         "name": "verifier_first_name",
         "rawType": "object",
         "type": "string"
        },
        {
         "name": "verifier_last_name",
         "rawType": "object",
         "type": "string"
        },
        {
         "name": "verifier_date_of_birth",
         "rawType": "object",
         "type": "string"
        },
        {
         "name": "adder_age",
         "rawType": "int32",
         "type": "integer"
        },
        {
         "name": "verifier_age",
         "rawType": "int32",
         "type": "integer"
        }
       ],
       "ref": "93933aa6-0c97-4e7e-9f95-ccc957085a6e",
       "rows": [
        [
         "905",
         "Constellation",
         "1006",
         "Centaurus",
         "21",
         "54",
         "21",
         "chriscook",
         "chriscook@example.com",
         "REDACTED",
         "Chris",
         "Cook",
         "2003-04-26",
         "54",
         "caseyreyes",
         "caseyreyes@example.com",
         "REDACTED",
         "Casey",
         "Reyes",
         "1995-09-15",
         "22",
         "30"
        ],
        [
         "907",
         "Constellation",
         "1011",
         "Draco",
         "30",
         "60",
         "30",
         "alexcook",
         "alexcook@example.com",
         "REDACTED",
         "Alex",
         "Cook",
         "1999-12-07",
         "60",
         "blakeramos",
         "blakeramos@example.com",
         "REDACTED",
         "Blake",
         "Ramos",
         "1995-06-01",
         "26",
         "30"
        ]
       ],
       "shape": {
        "columns": 21,
        "rows": 2
       }
      },
      "text/html": [
       "<div>\n",
       "<style scoped>\n",
       "    .dataframe tbody tr th:only-of-type {\n",
       "        vertical-align: middle;\n",
       "    }\n",
       "\n",
       "    .dataframe tbody tr th {\n",
       "        vertical-align: top;\n",
       "    }\n",
       "\n",
       "    .dataframe thead th {\n",
       "        text-align: right;\n",
       "    }\n",
       "</style>\n",
       "<table border=\"1\" class=\"dataframe\">\n",
       "  <thead>\n",
       "    <tr style=\"text-align: right;\">\n",
       "      <th></th>\n",
       "      <th>type</th>\n",
       "      <th>id</th>\n",
       "      <th>name</th>\n",
       "      <th>added_by</th>\n",
       "      <th>verified_by</th>\n",
       "      <th>adder_user_id</th>\n",
       "      <th>adder_username</th>\n",
       "      <th>adder_email</th>\n",
       "      <th>adder_password</th>\n",
       "      <th>adder_first_name</th>\n",
       "      <th>...</th>\n",
       "      <th>adder_date_of_birth</th>\n",
       "      <th>verifier_user_id</th>\n",
       "      <th>verifier_username</th>\n",
       "      <th>verifier_email</th>\n",
       "      <th>verifier_password</th>\n",
       "      <th>verifier_first_name</th>\n",
       "      <th>verifier_last_name</th>\n",
       "      <th>verifier_date_of_birth</th>\n",
       "      <th>adder_age</th>\n",
       "      <th>verifier_age</th>\n",
       "    </tr>\n",
       "  </thead>\n",
       "  <tbody>\n",
       "    <tr>\n",
       "      <th>905</th>\n",
       "      <td>Constellation</td>\n",
       "      <td>1006</td>\n",
       "      <td>Centaurus</td>\n",
       "      <td>21</td>\n",
       "      <td>54</td>\n",
       "      <td>21</td>\n",
       "      <td>chriscook</td>\n",
       "      <td>chriscook@example.com</td>\n",
       "      <td>REDACTED</td>\n",
       "      <td>Chris</td>\n",
       "      <td>...</td>\n",
       "      <td>2003-04-26</td>\n",
       "      <td>54</td>\n",
       "      <td>caseyreyes</td>\n",
       "      <td>caseyreyes@example.com</td>\n",
       "      <td>REDACTED</td>\n",
       "      <td>Casey</td>\n",
       "      <td>Reyes</td>\n",
       "      <td>1995-09-15</td>\n",
       "      <td>22</td>\n",
       "      <td>30</td>\n",
       "    </tr>\n",
       "    <tr>\n",
       "      <th>907</th>\n",
       "      <td>Constellation</td>\n",
       "      <td>1011</td>\n",
       "      <td>Draco</td>\n",
       "      <td>30</td>\n",
       "      <td>60</td>\n",
       "      <td>30</td>\n",
       "      <td>alexcook</td>\n",
       "      <td>alexcook@example.com</td>\n",
       "      <td>REDACTED</td>\n",
       "      <td>Alex</td>\n",
       "      <td>...</td>\n",
       "      <td>1999-12-07</td>\n",
       "      <td>60</td>\n",
       "      <td>blakeramos</td>\n",
       "      <td>blakeramos@example.com</td>\n",
       "      <td>REDACTED</td>\n",
       "      <td>Blake</td>\n",
       "      <td>Ramos</td>\n",
       "      <td>1995-06-01</td>\n",
       "      <td>26</td>\n",
       "      <td>30</td>\n",
       "    </tr>\n",
       "  </tbody>\n",
       "</table>\n",
       "<p>2 rows × 21 columns</p>\n",
       "</div>"
      ],
      "text/plain": [
       "              type    id       name  added_by  verified_by  adder_user_id  \\\n",
       "905  Constellation  1006  Centaurus        21           54             21   \n",
       "907  Constellation  1011      Draco        30           60             30   \n",
       "\n",
       "    adder_username            adder_email adder_password adder_first_name  \\\n",
       "905      chriscook  chriscook@example.com       REDACTED            Chris   \n",
       "907       alexcook   alexcook@example.com       REDACTED             Alex   \n",
       "\n",
       "     ... adder_date_of_birth verifier_user_id  verifier_username  \\\n",
       "905  ...          2003-04-26               54         caseyreyes   \n",
       "907  ...          1999-12-07               60         blakeramos   \n",
       "\n",
       "             verifier_email verifier_password verifier_first_name  \\\n",
       "905  caseyreyes@example.com          REDACTED               Casey   \n",
       "907  blakeramos@example.com          REDACTED               Blake   \n",
       "\n",
       "    verifier_last_name verifier_date_of_birth adder_age  verifier_age  \n",
       "905              Reyes             1995-09-15        22            30  \n",
       "907              Ramos             1995-06-01        26            30  \n",
       "\n",
       "[2 rows x 21 columns]"
      ]
     },
     "metadata": {},
     "output_type": "display_data"
    }
   ],
   "source": [
    "display(df_combined[df_combined[\"verifier_username\"].isin([\"blakeramos\", \"caseyreyes\"])])"
   ]
  },
  {
   "cell_type": "markdown",
   "id": "f93a7eb9",
   "metadata": {},
   "source": [
    "We see 2 constellations with `constellation_id` 1006 and 1011.  I am also flagging these records.  The reasoning is similar to my previous reasoning (i. e. to flag young verifiers):\n",
    "\n",
    "- For **apparent magnitude**, *business rules* state that values can range from 0-10.\n",
    "\n",
    "- For **verification counts**, no explicit rule exists that defines what is \"valid\" but the pattern shows that verifiers contribute 40-60 records each. Two verifiers break this pattern.  Because there is no business rule justifying these anomalies, they are suspicious and may also be the result of inconsistent data entry or incorrect assignments.  \n",
    "\n",
    "In a real-world project, I  also **flag these records to the data owner for clarification** before continuing.  For this demo, I filter them out."
   ]
  },
  {
   "cell_type": "code",
   "execution_count": 12,
   "id": "386d41e0",
   "metadata": {},
   "outputs": [
    {
     "name": "stdout",
     "output_type": "stream",
     "text": [
      "(1305, 21)\n",
      "(1303, 21)\n"
     ]
    }
   ],
   "source": [
    "print(df_combined.shape)\n",
    "df_combined = df_combined[~ df_combined[\"verifier_username\"].isin([\"blakeramos\", \"caseyreyes\"])]\n",
    "print(df_combined.shape)"
   ]
  },
  {
   "cell_type": "markdown",
   "id": "1dd2666f",
   "metadata": {},
   "source": [
    "We now redraw the **Contributions per User** boxplot."
   ]
  },
  {
   "cell_type": "code",
   "execution_count": 13,
   "id": "a443eca0",
   "metadata": {},
   "outputs": [
    {
     "data": {
      "image/png": "[encoded data removed]",
      "text/plain": [
       "<Figure size 500x300 with 1 Axes>"
      ]
     },
     "metadata": {},
     "output_type": "display_data"
    }
   ],
   "source": [
    "# Count contributions per adder and verifier\n",
    "adder_counts = df_combined.groupby(\"adder_username\").size().reset_index(name=\"records_added\")\n",
    "verifier_counts = df_combined.groupby(\"verifier_username\").size().reset_index(name=\"records_verified\")\n",
    "\n",
    "# Boxplot to compare distributions\n",
    "plt.figure(figsize=(5, 3))\n",
    "sns.boxplot(data=[adder_counts[\"records_added\"], verifier_counts[\"records_verified\"]])\n",
    "plt.xticks([0, 1], [\"Adders\", \"Verifiers\"])\n",
    "plt.title(\"Contributions per User\")\n",
    "plt.ylabel(\"Number of Records\")\n",
    "plt.show()\n"
   ]
  },
  {
   "cell_type": "markdown",
   "id": "90ae08ac",
   "metadata": {},
   "source": [
    "### Summary\n",
    "\n",
    "In this notebook, I analyzed **user behavior** across stars, constellations, and galaxies:\n",
    "\n",
    "- **Age patterns:** Adders are mostly in their 20s, while verifiers are mostly in their 30s.  A few records fell outside this pattern; I flagged them as possible data issues.  \n",
    "\n",
    "- **Contributions:** Adders contributed fewer records, while verifiers handled much more.  This aligns with the business process: adding is harder, verifying is lighter.  A few records were also inconsistent, and I also flagged them.  \n",
    "\n",
    "- **Data quality:** When anomalies did not match any clear business rule, I flagged and removed them to keep the analysis consistent. In a real project, I would escalate these to the data owner.  \n",
    "\n",
    "Overall, the analysis shows how to move beyond raw counts and spot **real patterns in behavior**, \n",
    "while also practicing the critical analyst skill of **distinguishing genuine outliers from data quality issues**.\n"
   ]
  }
 ],
 "metadata": {
  "kernelspec": {
   "display_name": "starzz-dashboard",
   "language": "python",
   "name": "python3"
  },
  "language_info": {
   "codemirror_mode": {
    "name": "ipython",
    "version": 3
   },
   "file_extension": ".py",
   "mimetype": "text/x-python",
   "name": "python",
   "nbconvert_exporter": "python",
   "pygments_lexer": "ipython3",
   "version": "3.11.13"
  }
 },
 "nbformat": 4,
 "nbformat_minor": 5
}
